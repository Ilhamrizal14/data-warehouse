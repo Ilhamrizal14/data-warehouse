{
 "cells": [
  {
   "cell_type": "code",
   "execution_count": 13,
   "metadata": {},
   "outputs": [],
   "source": [
    "import pandas as pd\n",
    "import sqlite3\n",
    "import math \n",
    "import numpy as np\n",
    "import matplotlib.pyplot as plt\n",
    "plt.style.use('fivethirtyeight')\n",
    "\n",
    "from IPython.core.display import display, HTML\n"
   ]
  },
  {
   "cell_type": "code",
   "execution_count": 14,
   "metadata": {},
   "outputs": [],
   "source": [
    "conn = sqlite3.connect('database.db')"
   ]
  },
  {
   "cell_type": "code",
   "execution_count": 15,
   "metadata": {},
   "outputs": [],
   "source": [
    "c = conn.cursor()"
   ]
  },
  {
   "cell_type": "markdown",
   "metadata": {},
   "source": [
    "## Desain Database\n",
    "<img src=\"dw.png\">"
   ]
  },
  {
   "cell_type": "code",
   "execution_count": 16,
   "metadata": {},
   "outputs": [
    {
     "ename": "OperationalError",
     "evalue": "database is locked",
     "output_type": "error",
     "traceback": [
      "\u001b[1;31m---------------------------------------------------------------------------\u001b[0m",
      "\u001b[1;31mOperationalError\u001b[0m                          Traceback (most recent call last)",
      "\u001b[1;32m<ipython-input-16-f506fe015f51>\u001b[0m in \u001b[0;36m<module>\u001b[1;34m\u001b[0m\n\u001b[1;32m----> 1\u001b[1;33m \u001b[0mc\u001b[0m\u001b[1;33m.\u001b[0m\u001b[0mexecutescript\u001b[0m\u001b[1;33m(\u001b[0m\u001b[1;34m'drop table if exists kontraktor'\u001b[0m\u001b[1;33m)\u001b[0m\u001b[1;33m\u001b[0m\u001b[1;33m\u001b[0m\u001b[0m\n\u001b[0m\u001b[0;32m      2\u001b[0m \u001b[0mc\u001b[0m\u001b[1;33m.\u001b[0m\u001b[0mexecutescript\u001b[0m\u001b[1;33m(\u001b[0m\u001b[1;34m'drop table if exists produk'\u001b[0m\u001b[1;33m)\u001b[0m\u001b[1;33m\u001b[0m\u001b[1;33m\u001b[0m\u001b[0m\n\u001b[0;32m      3\u001b[0m \u001b[0mc\u001b[0m\u001b[1;33m.\u001b[0m\u001b[0mexecutescript\u001b[0m\u001b[1;33m(\u001b[0m\u001b[1;34m'drop table if exists time'\u001b[0m\u001b[1;33m)\u001b[0m\u001b[1;33m\u001b[0m\u001b[1;33m\u001b[0m\u001b[0m\n\u001b[0;32m      4\u001b[0m \u001b[0mc\u001b[0m\u001b[1;33m.\u001b[0m\u001b[0mexecutescript\u001b[0m\u001b[1;33m(\u001b[0m\u001b[1;34m'drop table if exists sales'\u001b[0m\u001b[1;33m)\u001b[0m\u001b[1;33m\u001b[0m\u001b[1;33m\u001b[0m\u001b[0m\n\u001b[0;32m      5\u001b[0m \u001b[0mc\u001b[0m\u001b[1;33m.\u001b[0m\u001b[0mexecute\u001b[0m\u001b[1;33m(\u001b[0m\u001b[1;34m\"CREATE TABLE IF NOT EXISTS 'kontraktor' ('kode_kontraktor' INT, 'nama_kontraktor' VARCHAR(255) NULL,'kontak_person' VARCHAR(255) NULL, PRIMARY KEY ('kode_kontraktor'))\"\u001b[0m\u001b[1;33m)\u001b[0m\u001b[1;33m\u001b[0m\u001b[1;33m\u001b[0m\u001b[0m\n",
      "\u001b[1;31mOperationalError\u001b[0m: database is locked"
     ]
    }
   ],
   "source": [
    "c.executescript('drop table if exists kontraktor')\n",
    "c.executescript('drop table if exists produk')\n",
    "c.executescript('drop table if exists time')\n",
    "c.executescript('drop table if exists sales')\n",
    "c.execute(\"CREATE TABLE IF NOT EXISTS 'kontraktor' ('kode_kontraktor' INT, 'nama_kontraktor' VARCHAR(255) NULL,'kontak_person' VARCHAR(255) NULL, PRIMARY KEY ('kode_kontraktor'))\")\n",
    "c.execute(\"CREATE TABLE IF NOT EXISTS 'produk' ('id_produk' INT, 'nama_produk' VARCHAR(255) NULL,'kategori_produk' VARCHAR(255) NULL, PRIMARY KEY ('id_produk'))\")\n",
    "c.execute(\"CREATE TABLE IF NOT EXISTS 'time' ('id_time' INT, 'bulan' INT, PRIMARY KEY ('id_time'))\")\n",
    "c.execute(\"CREATE TABLE IF NOT EXISTS 'sales' ( 'id_fact' INT, 'id_time' INT, 'kode_kontraktor' INT, 'id_produk' INT, 'jumlah_pesanan' INT, PRIMARY KEY ('id_fact'), FOREIGN KEY ('id_time') REFERENCES 'time' ('id_time') ON DELETE NO ACTION ON UPDATE NO ACTION, FOREIGN KEY ('kode_kontraktor') REFERENCES 'kontraktor' ('kode_kontraktor') ON DELETE NO ACTION ON UPDATE NO ACTION, FOREIGN KEY ('id_produk') REFERENCES 'produk' ('id_produk') ON DELETE NO ACTION ON UPDATE NO ACTION)\")"
   ]
  },
  {
   "cell_type": "code",
   "execution_count": null,
   "metadata": {},
   "outputs": [],
   "source": [
    "df = pd.read_csv(\"data dw (1).csv\")\n",
    "df"
   ]
  },
  {
   "cell_type": "code",
   "execution_count": null,
   "metadata": {},
   "outputs": [],
   "source": [
    "time = []\n",
    "produk = []\n",
    "kontraktor = []\n",
    "sales = []\n",
    "for i,j in df.iterrows():\n",
    "    if j[0] not in time:\n",
    "        time.append(j[0])\n",
    "        \n",
    "    t = -1\n",
    "    for index, value in enumerate(time):\n",
    "        if value == j[0]:\n",
    "            t = index+1\n",
    "            break\n",
    "        \n",
    "    if [j[1],j[3], t] not in produk:\n",
    "        produk.append([j[1], j[3], t])\n",
    "    \n",
    "    if [j[2],j[5], t] not in kontraktor:\n",
    "        kontraktor.append([j[2],j[5], t])\n",
    "\n",
    "\n",
    "sales = []\n",
    "for i,j in df.iterrows():   \n",
    "    t = -1\n",
    "    for index, value in enumerate(time):\n",
    "        if value[0] == j[0]:\n",
    "            t = index+1\n",
    "            break\n",
    "    \n",
    "    k = -1\n",
    "    for index, value in enumerate(kontraktor):\n",
    "        if value[0] == j[2]:\n",
    "            s = index+1\n",
    "            break\n",
    "        \n",
    "    prod = -1\n",
    "    for index, value in enumerate(produk):\n",
    "        if value[0] == j[3]:\n",
    "            prod = index+1\n",
    "    \n",
    "    sales.append([t, k, prod, j[4]])"
   ]
  },
  {
   "cell_type": "code",
   "execution_count": null,
   "metadata": {},
   "outputs": [],
   "source": [
    "c.execute(\"DELETE FROM KONTRAKTOR\")\n",
    "for index, i in enumerate(kontraktor): \n",
    "    c.execute(\"INSERT INTO KONTRAKTOR VALUES(\" + str(index+1) + \", '\" + str(i[0]) + \"', '\" + str(i[1]) + \"')\")\n",
    "\n",
    "c.execute(\"DELETE FROM PRODUK\")\n",
    "for index, i in enumerate(produk):\n",
    "    c.execute(\"INSERT INTO PRODUK VALUES(\" + str(index+1) + \", '\" + str(i[0]) + \"','\" + str(i[1]) + \"')\")\n",
    "    \n",
    "c.execute(\"DELETE FROM TIME\")\n",
    "for index, i in enumerate(time): \n",
    "    c.execute(\"INSERT INTO TIME VALUES(\" + str(index+1) + \", '\" + str(i[0]) + \"')\")\n",
    "    \n",
    "\n",
    "c.execute(\"DELETE FROM SALES\")\n",
    "for index, i in enumerate(sales):\n",
    "    c.execute(\"INSERT INTO SALES VALUES(\" + str(index+1) + \",\" + str(id_time) + \",\" + str(kode_kontraktor) + \",\" + str(id_produk) + \",\" + str(i[3]) + \")\")\n",
    "\n",
    "    \n",
    "conn.commit()"
   ]
  },
  {
   "cell_type": "code",
   "execution_count": 19,
   "metadata": {},
   "outputs": [
    {
     "data": {
      "text/plain": [
       "[]"
      ]
     },
     "execution_count": 19,
     "metadata": {},
     "output_type": "execute_result"
    }
   ],
   "source": [
    "c.execute('''SELECT * FROM SALES''')\n",
    "\n",
    "SALES = []\n",
    "for row in c.fetchall():\n",
    "    SALES.append(row)\n",
    "SALES\n",
    "\n",
    "c.execute('''SELECT * FROM PRODUK''')\n",
    "\n",
    "SALES = []\n",
    "for row in c.fetchall():\n",
    "    SALES.append(row)\n",
    "SALES"
   ]
  },
  {
   "cell_type": "code",
   "execution_count": null,
   "metadata": {},
   "outputs": [],
   "source": []
  }
 ],
 "metadata": {
  "kernelspec": {
   "display_name": "Python 3",
   "language": "python",
   "name": "python3"
  },
  "language_info": {
   "codemirror_mode": {
    "name": "ipython",
    "version": 3
   },
   "file_extension": ".py",
   "mimetype": "text/x-python",
   "name": "python",
   "nbconvert_exporter": "python",
   "pygments_lexer": "ipython3",
   "version": "3.7.4"
  }
 },
 "nbformat": 4,
 "nbformat_minor": 2
}
