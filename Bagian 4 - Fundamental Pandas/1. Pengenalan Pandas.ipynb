{
 "cells": [
  {
   "cell_type": "markdown",
   "metadata": {
    "collapsed": true
   },
   "source": [
    "# Pengenalan Pandas"
   ]
  },
  {
   "cell_type": "markdown",
   "metadata": {},
   "source": [
    "## Apa itu pandas"
   ]
  },
  {
   "cell_type": "markdown",
   "metadata": {},
   "source": [
    "- Library Python untuk analisis Data dengan performa tinggi\n",
    "- Struktur data dengan banyak fungsi\n",
    "  - Label yang bermakna\n",
    "  - Time series\n",
    "  - Operasi relasional\n",
    "  - Mampu menangani data yang hilang"
   ]
  },
  {
   "cell_type": "markdown",
   "metadata": {},
   "source": [
    "## Yang Akan dipelajari"
   ]
  },
  {
   "cell_type": "markdown",
   "metadata": {},
   "source": [
    "- Mengimpor dan Mengekspor Data\n",
    "- Metode Statistik dan Grafis\n",
    "- Indexing dan Sampling"
   ]
  },
  {
   "cell_type": "markdown",
   "metadata": {},
   "source": [
    "# DataFrames"
   ]
  },
  {
   "cell_type": "code",
   "execution_count": 2,
   "metadata": {},
   "outputs": [],
   "source": [
    "import pandas as pd"
   ]
  },
  {
   "cell_type": "code",
   "execution_count": 3,
   "metadata": {},
   "outputs": [],
   "source": [
    "AAPL = pd.read_csv('data/aapl.csv', index_col=0, parse_dates=True)"
   ]
  },
  {
   "cell_type": "code",
   "execution_count": 4,
   "metadata": {},
   "outputs": [
    {
     "data": {
      "text/plain": [
       "pandas.core.frame.DataFrame"
      ]
     },
     "execution_count": 4,
     "metadata": {},
     "output_type": "execute_result"
    }
   ],
   "source": [
    "type(AAPL)"
   ]
  },
  {
   "cell_type": "code",
   "execution_count": 5,
   "metadata": {},
   "outputs": [
    {
     "data": {
      "text/plain": [
       "(6081, 6)"
      ]
     },
     "execution_count": 5,
     "metadata": {},
     "output_type": "execute_result"
    }
   ],
   "source": [
    "AAPL.shape"
   ]
  },
  {
   "cell_type": "code",
   "execution_count": 6,
   "metadata": {},
   "outputs": [
    {
     "data": {
      "text/plain": [
       "Index(['Open', 'High', 'Low', 'Close', 'Volume', 'Adj Close'], dtype='object')"
      ]
     },
     "execution_count": 6,
     "metadata": {},
     "output_type": "execute_result"
    }
   ],
   "source": [
    "AAPL.columns"
   ]
  },
  {
   "cell_type": "code",
   "execution_count": 7,
   "metadata": {},
   "outputs": [
    {
     "data": {
      "text/plain": [
       "pandas.core.indexes.base.Index"
      ]
     },
     "execution_count": 7,
     "metadata": {},
     "output_type": "execute_result"
    }
   ],
   "source": [
    "type(AAPL.columns)"
   ]
  },
  {
   "cell_type": "code",
   "execution_count": 8,
   "metadata": {},
   "outputs": [
    {
     "data": {
      "text/plain": [
       "DatetimeIndex(['1984-09-07', '1984-09-10', '1984-09-11', '1984-09-12',\n",
       "               '1984-09-13', '1984-09-14', '1984-09-17', '1984-09-18',\n",
       "               '1984-09-19', '1984-09-20',\n",
       "               ...\n",
       "               '2008-10-01', '2008-10-02', '2008-10-03', '2008-10-06',\n",
       "               '2008-10-07', '2008-10-08', '2008-10-09', '2008-10-10',\n",
       "               '2008-10-13', '2008-10-14'],\n",
       "              dtype='datetime64[ns]', name='Date', length=6081, freq=None)"
      ]
     },
     "execution_count": 8,
     "metadata": {},
     "output_type": "execute_result"
    }
   ],
   "source": [
    "AAPL.index"
   ]
  },
  {
   "cell_type": "code",
   "execution_count": 9,
   "metadata": {},
   "outputs": [
    {
     "data": {
      "text/plain": [
       "pandas.core.indexes.datetimes.DatetimeIndex"
      ]
     },
     "execution_count": 9,
     "metadata": {},
     "output_type": "execute_result"
    }
   ],
   "source": [
    "type(AAPL.index)"
   ]
  },
  {
   "cell_type": "markdown",
   "metadata": {},
   "source": [
    "## Indexes dan Columns"
   ]
  },
  {
   "cell_type": "code",
   "execution_count": 11,
   "metadata": {
    "scrolled": true
   },
   "outputs": [
    {
     "data": {
      "text/plain": [
       "Date\n",
       "1984-09-07     26.50\n",
       "1984-09-10     26.37\n",
       "1984-09-11     26.87\n",
       "1984-09-12     26.12\n",
       "1984-09-13     27.50\n",
       "               ...  \n",
       "2008-10-08     89.79\n",
       "2008-10-09     88.74\n",
       "2008-10-10     96.80\n",
       "2008-10-13    110.26\n",
       "2008-10-14    104.08\n",
       "Name: Close, Length: 6081, dtype: float64"
      ]
     },
     "execution_count": 11,
     "metadata": {},
     "output_type": "execute_result"
    }
   ],
   "source": [
    "AAPL['Close']"
   ]
  },
  {
   "cell_type": "code",
   "execution_count": 12,
   "metadata": {},
   "outputs": [
    {
     "data": {
      "text/plain": [
       "pandas.core.series.Series"
      ]
     },
     "execution_count": 12,
     "metadata": {},
     "output_type": "execute_result"
    }
   ],
   "source": [
    "type(AAPL['Close'])"
   ]
  },
  {
   "cell_type": "code",
   "execution_count": 56,
   "metadata": {},
   "outputs": [
    {
     "data": {
      "text/html": [
       "<div>\n",
       "<style>\n",
       "    .dataframe thead tr:only-child th {\n",
       "        text-align: right;\n",
       "    }\n",
       "\n",
       "    .dataframe thead th {\n",
       "        text-align: left;\n",
       "    }\n",
       "\n",
       "    .dataframe tbody tr th {\n",
       "        vertical-align: top;\n",
       "    }\n",
       "</style>\n",
       "<table border=\"1\" class=\"dataframe\">\n",
       "  <thead>\n",
       "    <tr style=\"text-align: right;\">\n",
       "      <th></th>\n",
       "      <th>Open</th>\n",
       "      <th>Close</th>\n",
       "    </tr>\n",
       "    <tr>\n",
       "      <th>Date</th>\n",
       "      <th></th>\n",
       "      <th></th>\n",
       "    </tr>\n",
       "  </thead>\n",
       "  <tbody>\n",
       "    <tr>\n",
       "      <th>1984-09-07</th>\n",
       "      <td>26.50</td>\n",
       "      <td>26.50</td>\n",
       "    </tr>\n",
       "    <tr>\n",
       "      <th>1984-09-10</th>\n",
       "      <td>26.50</td>\n",
       "      <td>26.37</td>\n",
       "    </tr>\n",
       "    <tr>\n",
       "      <th>1984-09-11</th>\n",
       "      <td>26.62</td>\n",
       "      <td>26.87</td>\n",
       "    </tr>\n",
       "    <tr>\n",
       "      <th>1984-09-12</th>\n",
       "      <td>26.87</td>\n",
       "      <td>26.12</td>\n",
       "    </tr>\n",
       "    <tr>\n",
       "      <th>1984-09-13</th>\n",
       "      <td>27.50</td>\n",
       "      <td>27.50</td>\n",
       "    </tr>\n",
       "    <tr>\n",
       "      <th>1984-09-14</th>\n",
       "      <td>27.62</td>\n",
       "      <td>27.87</td>\n",
       "    </tr>\n",
       "    <tr>\n",
       "      <th>1984-09-17</th>\n",
       "      <td>28.62</td>\n",
       "      <td>28.62</td>\n",
       "    </tr>\n",
       "    <tr>\n",
       "      <th>1984-09-18</th>\n",
       "      <td>28.62</td>\n",
       "      <td>27.62</td>\n",
       "    </tr>\n",
       "    <tr>\n",
       "      <th>1984-09-19</th>\n",
       "      <td>27.62</td>\n",
       "      <td>27.00</td>\n",
       "    </tr>\n",
       "    <tr>\n",
       "      <th>1984-09-20</th>\n",
       "      <td>27.12</td>\n",
       "      <td>27.12</td>\n",
       "    </tr>\n",
       "    <tr>\n",
       "      <th>1984-09-21</th>\n",
       "      <td>27.12</td>\n",
       "      <td>26.87</td>\n",
       "    </tr>\n",
       "    <tr>\n",
       "      <th>1984-09-24</th>\n",
       "      <td>26.87</td>\n",
       "      <td>26.62</td>\n",
       "    </tr>\n",
       "    <tr>\n",
       "      <th>1984-09-25</th>\n",
       "      <td>26.50</td>\n",
       "      <td>26.12</td>\n",
       "    </tr>\n",
       "    <tr>\n",
       "      <th>1984-09-26</th>\n",
       "      <td>26.12</td>\n",
       "      <td>25.75</td>\n",
       "    </tr>\n",
       "    <tr>\n",
       "      <th>1984-09-27</th>\n",
       "      <td>25.75</td>\n",
       "      <td>25.75</td>\n",
       "    </tr>\n",
       "    <tr>\n",
       "      <th>1984-09-28</th>\n",
       "      <td>25.75</td>\n",
       "      <td>25.12</td>\n",
       "    </tr>\n",
       "    <tr>\n",
       "      <th>1984-10-01</th>\n",
       "      <td>25.00</td>\n",
       "      <td>24.50</td>\n",
       "    </tr>\n",
       "    <tr>\n",
       "      <th>1984-10-02</th>\n",
       "      <td>24.75</td>\n",
       "      <td>24.75</td>\n",
       "    </tr>\n",
       "    <tr>\n",
       "      <th>1984-10-03</th>\n",
       "      <td>25.12</td>\n",
       "      <td>25.12</td>\n",
       "    </tr>\n",
       "    <tr>\n",
       "      <th>1984-10-04</th>\n",
       "      <td>25.37</td>\n",
       "      <td>25.37</td>\n",
       "    </tr>\n",
       "    <tr>\n",
       "      <th>1984-10-05</th>\n",
       "      <td>25.37</td>\n",
       "      <td>24.87</td>\n",
       "    </tr>\n",
       "    <tr>\n",
       "      <th>1984-10-08</th>\n",
       "      <td>24.87</td>\n",
       "      <td>24.87</td>\n",
       "    </tr>\n",
       "    <tr>\n",
       "      <th>1984-10-09</th>\n",
       "      <td>24.87</td>\n",
       "      <td>24.62</td>\n",
       "    </tr>\n",
       "    <tr>\n",
       "      <th>1984-10-10</th>\n",
       "      <td>24.62</td>\n",
       "      <td>23.87</td>\n",
       "    </tr>\n",
       "    <tr>\n",
       "      <th>1984-10-11</th>\n",
       "      <td>23.87</td>\n",
       "      <td>23.75</td>\n",
       "    </tr>\n",
       "    <tr>\n",
       "      <th>1984-10-12</th>\n",
       "      <td>23.75</td>\n",
       "      <td>22.75</td>\n",
       "    </tr>\n",
       "    <tr>\n",
       "      <th>1984-10-15</th>\n",
       "      <td>24.00</td>\n",
       "      <td>24.00</td>\n",
       "    </tr>\n",
       "    <tr>\n",
       "      <th>1984-10-16</th>\n",
       "      <td>24.00</td>\n",
       "      <td>23.87</td>\n",
       "    </tr>\n",
       "    <tr>\n",
       "      <th>1984-10-17</th>\n",
       "      <td>24.87</td>\n",
       "      <td>24.87</td>\n",
       "    </tr>\n",
       "    <tr>\n",
       "      <th>1984-10-18</th>\n",
       "      <td>25.62</td>\n",
       "      <td>25.62</td>\n",
       "    </tr>\n",
       "    <tr>\n",
       "      <th>...</th>\n",
       "      <td>...</td>\n",
       "      <td>...</td>\n",
       "    </tr>\n",
       "    <tr>\n",
       "      <th>2008-09-03</th>\n",
       "      <td>166.84</td>\n",
       "      <td>166.96</td>\n",
       "    </tr>\n",
       "    <tr>\n",
       "      <th>2008-09-04</th>\n",
       "      <td>165.86</td>\n",
       "      <td>161.22</td>\n",
       "    </tr>\n",
       "    <tr>\n",
       "      <th>2008-09-05</th>\n",
       "      <td>158.59</td>\n",
       "      <td>160.18</td>\n",
       "    </tr>\n",
       "    <tr>\n",
       "      <th>2008-09-08</th>\n",
       "      <td>164.57</td>\n",
       "      <td>157.92</td>\n",
       "    </tr>\n",
       "    <tr>\n",
       "      <th>2008-09-09</th>\n",
       "      <td>156.86</td>\n",
       "      <td>151.68</td>\n",
       "    </tr>\n",
       "    <tr>\n",
       "      <th>2008-09-10</th>\n",
       "      <td>152.32</td>\n",
       "      <td>151.61</td>\n",
       "    </tr>\n",
       "    <tr>\n",
       "      <th>2008-09-11</th>\n",
       "      <td>148.18</td>\n",
       "      <td>152.65</td>\n",
       "    </tr>\n",
       "    <tr>\n",
       "      <th>2008-09-12</th>\n",
       "      <td>150.91</td>\n",
       "      <td>148.94</td>\n",
       "    </tr>\n",
       "    <tr>\n",
       "      <th>2008-09-15</th>\n",
       "      <td>142.03</td>\n",
       "      <td>140.36</td>\n",
       "    </tr>\n",
       "    <tr>\n",
       "      <th>2008-09-16</th>\n",
       "      <td>133.86</td>\n",
       "      <td>139.88</td>\n",
       "    </tr>\n",
       "    <tr>\n",
       "      <th>2008-09-17</th>\n",
       "      <td>138.49</td>\n",
       "      <td>127.83</td>\n",
       "    </tr>\n",
       "    <tr>\n",
       "      <th>2008-09-18</th>\n",
       "      <td>130.57</td>\n",
       "      <td>134.09</td>\n",
       "    </tr>\n",
       "    <tr>\n",
       "      <th>2008-09-19</th>\n",
       "      <td>142.60</td>\n",
       "      <td>140.91</td>\n",
       "    </tr>\n",
       "    <tr>\n",
       "      <th>2008-09-22</th>\n",
       "      <td>139.94</td>\n",
       "      <td>131.05</td>\n",
       "    </tr>\n",
       "    <tr>\n",
       "      <th>2008-09-23</th>\n",
       "      <td>131.85</td>\n",
       "      <td>126.84</td>\n",
       "    </tr>\n",
       "    <tr>\n",
       "      <th>2008-09-24</th>\n",
       "      <td>127.27</td>\n",
       "      <td>128.71</td>\n",
       "    </tr>\n",
       "    <tr>\n",
       "      <th>2008-09-25</th>\n",
       "      <td>129.80</td>\n",
       "      <td>131.93</td>\n",
       "    </tr>\n",
       "    <tr>\n",
       "      <th>2008-09-26</th>\n",
       "      <td>124.91</td>\n",
       "      <td>128.24</td>\n",
       "    </tr>\n",
       "    <tr>\n",
       "      <th>2008-09-29</th>\n",
       "      <td>119.62</td>\n",
       "      <td>105.26</td>\n",
       "    </tr>\n",
       "    <tr>\n",
       "      <th>2008-09-30</th>\n",
       "      <td>108.25</td>\n",
       "      <td>113.66</td>\n",
       "    </tr>\n",
       "    <tr>\n",
       "      <th>2008-10-01</th>\n",
       "      <td>111.92</td>\n",
       "      <td>109.12</td>\n",
       "    </tr>\n",
       "    <tr>\n",
       "      <th>2008-10-02</th>\n",
       "      <td>108.01</td>\n",
       "      <td>100.10</td>\n",
       "    </tr>\n",
       "    <tr>\n",
       "      <th>2008-10-03</th>\n",
       "      <td>104.00</td>\n",
       "      <td>97.07</td>\n",
       "    </tr>\n",
       "    <tr>\n",
       "      <th>2008-10-06</th>\n",
       "      <td>91.96</td>\n",
       "      <td>98.14</td>\n",
       "    </tr>\n",
       "    <tr>\n",
       "      <th>2008-10-07</th>\n",
       "      <td>100.48</td>\n",
       "      <td>89.16</td>\n",
       "    </tr>\n",
       "    <tr>\n",
       "      <th>2008-10-08</th>\n",
       "      <td>85.91</td>\n",
       "      <td>89.79</td>\n",
       "    </tr>\n",
       "    <tr>\n",
       "      <th>2008-10-09</th>\n",
       "      <td>93.35</td>\n",
       "      <td>88.74</td>\n",
       "    </tr>\n",
       "    <tr>\n",
       "      <th>2008-10-10</th>\n",
       "      <td>85.70</td>\n",
       "      <td>96.80</td>\n",
       "    </tr>\n",
       "    <tr>\n",
       "      <th>2008-10-13</th>\n",
       "      <td>104.55</td>\n",
       "      <td>110.26</td>\n",
       "    </tr>\n",
       "    <tr>\n",
       "      <th>2008-10-14</th>\n",
       "      <td>116.26</td>\n",
       "      <td>104.08</td>\n",
       "    </tr>\n",
       "  </tbody>\n",
       "</table>\n",
       "<p>6081 rows × 2 columns</p>\n",
       "</div>"
      ],
      "text/plain": [
       "              Open   Close\n",
       "Date                      \n",
       "1984-09-07   26.50   26.50\n",
       "1984-09-10   26.50   26.37\n",
       "1984-09-11   26.62   26.87\n",
       "1984-09-12   26.87   26.12\n",
       "1984-09-13   27.50   27.50\n",
       "1984-09-14   27.62   27.87\n",
       "1984-09-17   28.62   28.62\n",
       "1984-09-18   28.62   27.62\n",
       "1984-09-19   27.62   27.00\n",
       "1984-09-20   27.12   27.12\n",
       "1984-09-21   27.12   26.87\n",
       "1984-09-24   26.87   26.62\n",
       "1984-09-25   26.50   26.12\n",
       "1984-09-26   26.12   25.75\n",
       "1984-09-27   25.75   25.75\n",
       "1984-09-28   25.75   25.12\n",
       "1984-10-01   25.00   24.50\n",
       "1984-10-02   24.75   24.75\n",
       "1984-10-03   25.12   25.12\n",
       "1984-10-04   25.37   25.37\n",
       "1984-10-05   25.37   24.87\n",
       "1984-10-08   24.87   24.87\n",
       "1984-10-09   24.87   24.62\n",
       "1984-10-10   24.62   23.87\n",
       "1984-10-11   23.87   23.75\n",
       "1984-10-12   23.75   22.75\n",
       "1984-10-15   24.00   24.00\n",
       "1984-10-16   24.00   23.87\n",
       "1984-10-17   24.87   24.87\n",
       "1984-10-18   25.62   25.62\n",
       "...            ...     ...\n",
       "2008-09-03  166.84  166.96\n",
       "2008-09-04  165.86  161.22\n",
       "2008-09-05  158.59  160.18\n",
       "2008-09-08  164.57  157.92\n",
       "2008-09-09  156.86  151.68\n",
       "2008-09-10  152.32  151.61\n",
       "2008-09-11  148.18  152.65\n",
       "2008-09-12  150.91  148.94\n",
       "2008-09-15  142.03  140.36\n",
       "2008-09-16  133.86  139.88\n",
       "2008-09-17  138.49  127.83\n",
       "2008-09-18  130.57  134.09\n",
       "2008-09-19  142.60  140.91\n",
       "2008-09-22  139.94  131.05\n",
       "2008-09-23  131.85  126.84\n",
       "2008-09-24  127.27  128.71\n",
       "2008-09-25  129.80  131.93\n",
       "2008-09-26  124.91  128.24\n",
       "2008-09-29  119.62  105.26\n",
       "2008-09-30  108.25  113.66\n",
       "2008-10-01  111.92  109.12\n",
       "2008-10-02  108.01  100.10\n",
       "2008-10-03  104.00   97.07\n",
       "2008-10-06   91.96   98.14\n",
       "2008-10-07  100.48   89.16\n",
       "2008-10-08   85.91   89.79\n",
       "2008-10-09   93.35   88.74\n",
       "2008-10-10   85.70   96.80\n",
       "2008-10-13  104.55  110.26\n",
       "2008-10-14  116.26  104.08\n",
       "\n",
       "[6081 rows x 2 columns]"
      ]
     },
     "execution_count": 56,
     "metadata": {},
     "output_type": "execute_result"
    }
   ],
   "source": [
    "AAPL[['Open', 'Close']]"
   ]
  },
  {
   "cell_type": "code",
   "execution_count": 13,
   "metadata": {},
   "outputs": [
    {
     "data": {
      "text/plain": [
       "pandas.core.frame.DataFrame"
      ]
     },
     "execution_count": 13,
     "metadata": {},
     "output_type": "execute_result"
    }
   ],
   "source": [
    "type(AAPL[['Open', 'Close']])"
   ]
  },
  {
   "cell_type": "markdown",
   "metadata": {},
   "source": [
    "### Menggunakan iloc[]"
   ]
  },
  {
   "cell_type": "code",
   "execution_count": 14,
   "metadata": {},
   "outputs": [
    {
     "data": {
      "text/plain": [
       "Open              26.50\n",
       "High              26.87\n",
       "Low               26.25\n",
       "Close             26.50\n",
       "Volume       2981600.00\n",
       "Adj Close          3.02\n",
       "Name: 1984-09-07 00:00:00, dtype: float64"
      ]
     },
     "execution_count": 14,
     "metadata": {},
     "output_type": "execute_result"
    }
   ],
   "source": [
    "AAPL.iloc[0]"
   ]
  },
  {
   "cell_type": "code",
   "execution_count": 15,
   "metadata": {},
   "outputs": [
    {
     "data": {
      "text/html": [
       "<div>\n",
       "<style scoped>\n",
       "    .dataframe tbody tr th:only-of-type {\n",
       "        vertical-align: middle;\n",
       "    }\n",
       "\n",
       "    .dataframe tbody tr th {\n",
       "        vertical-align: top;\n",
       "    }\n",
       "\n",
       "    .dataframe thead th {\n",
       "        text-align: right;\n",
       "    }\n",
       "</style>\n",
       "<table border=\"1\" class=\"dataframe\">\n",
       "  <thead>\n",
       "    <tr style=\"text-align: right;\">\n",
       "      <th></th>\n",
       "      <th>Open</th>\n",
       "      <th>High</th>\n",
       "      <th>Low</th>\n",
       "      <th>Close</th>\n",
       "      <th>Volume</th>\n",
       "      <th>Adj Close</th>\n",
       "    </tr>\n",
       "    <tr>\n",
       "      <th>Date</th>\n",
       "      <th></th>\n",
       "      <th></th>\n",
       "      <th></th>\n",
       "      <th></th>\n",
       "      <th></th>\n",
       "      <th></th>\n",
       "    </tr>\n",
       "  </thead>\n",
       "  <tbody>\n",
       "    <tr>\n",
       "      <td>1984-09-07</td>\n",
       "      <td>26.5</td>\n",
       "      <td>26.87</td>\n",
       "      <td>26.25</td>\n",
       "      <td>26.50</td>\n",
       "      <td>2981600</td>\n",
       "      <td>3.02</td>\n",
       "    </tr>\n",
       "    <tr>\n",
       "      <td>1984-09-10</td>\n",
       "      <td>26.5</td>\n",
       "      <td>26.62</td>\n",
       "      <td>25.87</td>\n",
       "      <td>26.37</td>\n",
       "      <td>2346400</td>\n",
       "      <td>3.01</td>\n",
       "    </tr>\n",
       "  </tbody>\n",
       "</table>\n",
       "</div>"
      ],
      "text/plain": [
       "            Open   High    Low  Close   Volume  Adj Close\n",
       "Date                                                     \n",
       "1984-09-07  26.5  26.87  26.25  26.50  2981600       3.02\n",
       "1984-09-10  26.5  26.62  25.87  26.37  2346400       3.01"
      ]
     },
     "execution_count": 15,
     "metadata": {},
     "output_type": "execute_result"
    }
   ],
   "source": [
    "AAPL.iloc[0:2]"
   ]
  },
  {
   "cell_type": "code",
   "execution_count": 16,
   "metadata": {},
   "outputs": [
    {
     "data": {
      "text/plain": [
       "Date\n",
       "1984-09-07    26.25\n",
       "1984-09-10    25.87\n",
       "Name: Low, dtype: float64"
      ]
     },
     "execution_count": 16,
     "metadata": {},
     "output_type": "execute_result"
    }
   ],
   "source": [
    "AAPL.iloc[0:2, 2]"
   ]
  },
  {
   "cell_type": "code",
   "execution_count": 17,
   "metadata": {},
   "outputs": [
    {
     "data": {
      "text/html": [
       "<div>\n",
       "<style scoped>\n",
       "    .dataframe tbody tr th:only-of-type {\n",
       "        vertical-align: middle;\n",
       "    }\n",
       "\n",
       "    .dataframe tbody tr th {\n",
       "        vertical-align: top;\n",
       "    }\n",
       "\n",
       "    .dataframe thead th {\n",
       "        text-align: right;\n",
       "    }\n",
       "</style>\n",
       "<table border=\"1\" class=\"dataframe\">\n",
       "  <thead>\n",
       "    <tr style=\"text-align: right;\">\n",
       "      <th></th>\n",
       "      <th>Low</th>\n",
       "      <th>Close</th>\n",
       "    </tr>\n",
       "    <tr>\n",
       "      <th>Date</th>\n",
       "      <th></th>\n",
       "      <th></th>\n",
       "    </tr>\n",
       "  </thead>\n",
       "  <tbody>\n",
       "    <tr>\n",
       "      <td>1984-09-07</td>\n",
       "      <td>26.25</td>\n",
       "      <td>26.50</td>\n",
       "    </tr>\n",
       "    <tr>\n",
       "      <td>1984-09-10</td>\n",
       "      <td>25.87</td>\n",
       "      <td>26.37</td>\n",
       "    </tr>\n",
       "  </tbody>\n",
       "</table>\n",
       "</div>"
      ],
      "text/plain": [
       "              Low  Close\n",
       "Date                    \n",
       "1984-09-07  26.25  26.50\n",
       "1984-09-10  25.87  26.37"
      ]
     },
     "execution_count": 17,
     "metadata": {},
     "output_type": "execute_result"
    }
   ],
   "source": [
    "AAPL.iloc[0:2, 2:4]"
   ]
  },
  {
   "cell_type": "code",
   "execution_count": 18,
   "metadata": {},
   "outputs": [
    {
     "data": {
      "text/html": [
       "<div>\n",
       "<style scoped>\n",
       "    .dataframe tbody tr th:only-of-type {\n",
       "        vertical-align: middle;\n",
       "    }\n",
       "\n",
       "    .dataframe tbody tr th {\n",
       "        vertical-align: top;\n",
       "    }\n",
       "\n",
       "    .dataframe thead th {\n",
       "        text-align: right;\n",
       "    }\n",
       "</style>\n",
       "<table border=\"1\" class=\"dataframe\">\n",
       "  <thead>\n",
       "    <tr style=\"text-align: right;\">\n",
       "      <th></th>\n",
       "      <th>Open</th>\n",
       "      <th>High</th>\n",
       "      <th>Low</th>\n",
       "      <th>Close</th>\n",
       "      <th>Volume</th>\n",
       "      <th>Adj Close</th>\n",
       "    </tr>\n",
       "    <tr>\n",
       "      <th>Date</th>\n",
       "      <th></th>\n",
       "      <th></th>\n",
       "      <th></th>\n",
       "      <th></th>\n",
       "      <th></th>\n",
       "      <th></th>\n",
       "    </tr>\n",
       "  </thead>\n",
       "  <tbody>\n",
       "    <tr>\n",
       "      <td>1984-09-07</td>\n",
       "      <td>26.50</td>\n",
       "      <td>26.87</td>\n",
       "      <td>26.25</td>\n",
       "      <td>26.50</td>\n",
       "      <td>2981600</td>\n",
       "      <td>3.02</td>\n",
       "    </tr>\n",
       "    <tr>\n",
       "      <td>1984-09-10</td>\n",
       "      <td>26.50</td>\n",
       "      <td>26.62</td>\n",
       "      <td>25.87</td>\n",
       "      <td>26.37</td>\n",
       "      <td>2346400</td>\n",
       "      <td>3.01</td>\n",
       "    </tr>\n",
       "    <tr>\n",
       "      <td>1984-09-11</td>\n",
       "      <td>26.62</td>\n",
       "      <td>27.37</td>\n",
       "      <td>26.62</td>\n",
       "      <td>26.87</td>\n",
       "      <td>5444000</td>\n",
       "      <td>3.07</td>\n",
       "    </tr>\n",
       "    <tr>\n",
       "      <td>1984-09-12</td>\n",
       "      <td>26.87</td>\n",
       "      <td>27.00</td>\n",
       "      <td>26.12</td>\n",
       "      <td>26.12</td>\n",
       "      <td>4773600</td>\n",
       "      <td>2.98</td>\n",
       "    </tr>\n",
       "    <tr>\n",
       "      <td>1984-09-13</td>\n",
       "      <td>27.50</td>\n",
       "      <td>27.62</td>\n",
       "      <td>27.50</td>\n",
       "      <td>27.50</td>\n",
       "      <td>7429600</td>\n",
       "      <td>3.14</td>\n",
       "    </tr>\n",
       "  </tbody>\n",
       "</table>\n",
       "</div>"
      ],
      "text/plain": [
       "             Open   High    Low  Close   Volume  Adj Close\n",
       "Date                                                      \n",
       "1984-09-07  26.50  26.87  26.25  26.50  2981600       3.02\n",
       "1984-09-10  26.50  26.62  25.87  26.37  2346400       3.01\n",
       "1984-09-11  26.62  27.37  26.62  26.87  5444000       3.07\n",
       "1984-09-12  26.87  27.00  26.12  26.12  4773600       2.98\n",
       "1984-09-13  27.50  27.62  27.50  27.50  7429600       3.14"
      ]
     },
     "execution_count": 18,
     "metadata": {},
     "output_type": "execute_result"
    }
   ],
   "source": [
    "AAPL.iloc[:5,:]"
   ]
  },
  {
   "cell_type": "code",
   "execution_count": 19,
   "metadata": {},
   "outputs": [
    {
     "data": {
      "text/html": [
       "<div>\n",
       "<style scoped>\n",
       "    .dataframe tbody tr th:only-of-type {\n",
       "        vertical-align: middle;\n",
       "    }\n",
       "\n",
       "    .dataframe tbody tr th {\n",
       "        vertical-align: top;\n",
       "    }\n",
       "\n",
       "    .dataframe thead th {\n",
       "        text-align: right;\n",
       "    }\n",
       "</style>\n",
       "<table border=\"1\" class=\"dataframe\">\n",
       "  <thead>\n",
       "    <tr style=\"text-align: right;\">\n",
       "      <th></th>\n",
       "      <th>Open</th>\n",
       "      <th>High</th>\n",
       "      <th>Low</th>\n",
       "      <th>Close</th>\n",
       "      <th>Volume</th>\n",
       "      <th>Adj Close</th>\n",
       "    </tr>\n",
       "    <tr>\n",
       "      <th>Date</th>\n",
       "      <th></th>\n",
       "      <th></th>\n",
       "      <th></th>\n",
       "      <th></th>\n",
       "      <th></th>\n",
       "      <th></th>\n",
       "    </tr>\n",
       "  </thead>\n",
       "  <tbody>\n",
       "    <tr>\n",
       "      <td>2008-10-08</td>\n",
       "      <td>85.91</td>\n",
       "      <td>96.33</td>\n",
       "      <td>85.68</td>\n",
       "      <td>89.79</td>\n",
       "      <td>78847900</td>\n",
       "      <td>89.79</td>\n",
       "    </tr>\n",
       "    <tr>\n",
       "      <td>2008-10-09</td>\n",
       "      <td>93.35</td>\n",
       "      <td>95.80</td>\n",
       "      <td>86.60</td>\n",
       "      <td>88.74</td>\n",
       "      <td>57763700</td>\n",
       "      <td>88.74</td>\n",
       "    </tr>\n",
       "    <tr>\n",
       "      <td>2008-10-10</td>\n",
       "      <td>85.70</td>\n",
       "      <td>100.00</td>\n",
       "      <td>85.00</td>\n",
       "      <td>96.80</td>\n",
       "      <td>79260700</td>\n",
       "      <td>96.80</td>\n",
       "    </tr>\n",
       "    <tr>\n",
       "      <td>2008-10-13</td>\n",
       "      <td>104.55</td>\n",
       "      <td>110.53</td>\n",
       "      <td>101.02</td>\n",
       "      <td>110.26</td>\n",
       "      <td>54967000</td>\n",
       "      <td>110.26</td>\n",
       "    </tr>\n",
       "    <tr>\n",
       "      <td>2008-10-14</td>\n",
       "      <td>116.26</td>\n",
       "      <td>116.40</td>\n",
       "      <td>103.14</td>\n",
       "      <td>104.08</td>\n",
       "      <td>70749800</td>\n",
       "      <td>104.08</td>\n",
       "    </tr>\n",
       "  </tbody>\n",
       "</table>\n",
       "</div>"
      ],
      "text/plain": [
       "              Open    High     Low   Close    Volume  Adj Close\n",
       "Date                                                           \n",
       "2008-10-08   85.91   96.33   85.68   89.79  78847900      89.79\n",
       "2008-10-09   93.35   95.80   86.60   88.74  57763700      88.74\n",
       "2008-10-10   85.70  100.00   85.00   96.80  79260700      96.80\n",
       "2008-10-13  104.55  110.53  101.02  110.26  54967000     110.26\n",
       "2008-10-14  116.26  116.40  103.14  104.08  70749800     104.08"
      ]
     },
     "execution_count": 19,
     "metadata": {},
     "output_type": "execute_result"
    }
   ],
   "source": [
    "AAPL.iloc[-5:,:]"
   ]
  },
  {
   "cell_type": "markdown",
   "metadata": {},
   "source": [
    "### Menggunakan loc[]"
   ]
  },
  {
   "cell_type": "code",
   "execution_count": 20,
   "metadata": {},
   "outputs": [
    {
     "data": {
      "text/plain": [
       "Open               85.91\n",
       "High               96.33\n",
       "Low                85.68\n",
       "Close              89.79\n",
       "Volume       78847900.00\n",
       "Adj Close          89.79\n",
       "Name: 2008-10-08 00:00:00, dtype: float64"
      ]
     },
     "execution_count": 20,
     "metadata": {},
     "output_type": "execute_result"
    }
   ],
   "source": [
    "AAPL.loc['2008-10-08']"
   ]
  },
  {
   "cell_type": "code",
   "execution_count": 21,
   "metadata": {},
   "outputs": [
    {
     "data": {
      "text/html": [
       "<div>\n",
       "<style scoped>\n",
       "    .dataframe tbody tr th:only-of-type {\n",
       "        vertical-align: middle;\n",
       "    }\n",
       "\n",
       "    .dataframe tbody tr th {\n",
       "        vertical-align: top;\n",
       "    }\n",
       "\n",
       "    .dataframe thead th {\n",
       "        text-align: right;\n",
       "    }\n",
       "</style>\n",
       "<table border=\"1\" class=\"dataframe\">\n",
       "  <thead>\n",
       "    <tr style=\"text-align: right;\">\n",
       "      <th></th>\n",
       "      <th>Open</th>\n",
       "      <th>High</th>\n",
       "      <th>Low</th>\n",
       "      <th>Close</th>\n",
       "      <th>Volume</th>\n",
       "      <th>Adj Close</th>\n",
       "    </tr>\n",
       "    <tr>\n",
       "      <th>Date</th>\n",
       "      <th></th>\n",
       "      <th></th>\n",
       "      <th></th>\n",
       "      <th></th>\n",
       "      <th></th>\n",
       "      <th></th>\n",
       "    </tr>\n",
       "  </thead>\n",
       "  <tbody>\n",
       "    <tr>\n",
       "      <td>2008-10-08</td>\n",
       "      <td>85.91</td>\n",
       "      <td>96.33</td>\n",
       "      <td>85.68</td>\n",
       "      <td>89.79</td>\n",
       "      <td>78847900</td>\n",
       "      <td>89.79</td>\n",
       "    </tr>\n",
       "    <tr>\n",
       "      <td>2008-10-09</td>\n",
       "      <td>93.35</td>\n",
       "      <td>95.80</td>\n",
       "      <td>86.60</td>\n",
       "      <td>88.74</td>\n",
       "      <td>57763700</td>\n",
       "      <td>88.74</td>\n",
       "    </tr>\n",
       "  </tbody>\n",
       "</table>\n",
       "</div>"
      ],
      "text/plain": [
       "             Open   High    Low  Close    Volume  Adj Close\n",
       "Date                                                       \n",
       "2008-10-08  85.91  96.33  85.68  89.79  78847900      89.79\n",
       "2008-10-09  93.35  95.80  86.60  88.74  57763700      88.74"
      ]
     },
     "execution_count": 21,
     "metadata": {},
     "output_type": "execute_result"
    }
   ],
   "source": [
    "AAPL.loc['2008-10-8':'2008-10-09']"
   ]
  },
  {
   "cell_type": "code",
   "execution_count": 67,
   "metadata": {},
   "outputs": [
    {
     "data": {
      "text/html": [
       "<div>\n",
       "<style>\n",
       "    .dataframe thead tr:only-child th {\n",
       "        text-align: right;\n",
       "    }\n",
       "\n",
       "    .dataframe thead th {\n",
       "        text-align: left;\n",
       "    }\n",
       "\n",
       "    .dataframe tbody tr th {\n",
       "        vertical-align: top;\n",
       "    }\n",
       "</style>\n",
       "<table border=\"1\" class=\"dataframe\">\n",
       "  <thead>\n",
       "    <tr style=\"text-align: right;\">\n",
       "      <th></th>\n",
       "      <th>Close</th>\n",
       "      <th>Volume</th>\n",
       "      <th>Adj Close</th>\n",
       "    </tr>\n",
       "    <tr>\n",
       "      <th>Date</th>\n",
       "      <th></th>\n",
       "      <th></th>\n",
       "      <th></th>\n",
       "    </tr>\n",
       "  </thead>\n",
       "  <tbody>\n",
       "    <tr>\n",
       "      <th>1984-09-07</th>\n",
       "      <td>26.50</td>\n",
       "      <td>2981600</td>\n",
       "      <td>3.02</td>\n",
       "    </tr>\n",
       "    <tr>\n",
       "      <th>1984-09-10</th>\n",
       "      <td>26.37</td>\n",
       "      <td>2346400</td>\n",
       "      <td>3.01</td>\n",
       "    </tr>\n",
       "    <tr>\n",
       "      <th>1984-09-11</th>\n",
       "      <td>26.87</td>\n",
       "      <td>5444000</td>\n",
       "      <td>3.07</td>\n",
       "    </tr>\n",
       "    <tr>\n",
       "      <th>1984-09-12</th>\n",
       "      <td>26.12</td>\n",
       "      <td>4773600</td>\n",
       "      <td>2.98</td>\n",
       "    </tr>\n",
       "    <tr>\n",
       "      <th>1984-09-13</th>\n",
       "      <td>27.50</td>\n",
       "      <td>7429600</td>\n",
       "      <td>3.14</td>\n",
       "    </tr>\n",
       "    <tr>\n",
       "      <th>1984-09-14</th>\n",
       "      <td>27.87</td>\n",
       "      <td>8826400</td>\n",
       "      <td>3.18</td>\n",
       "    </tr>\n",
       "    <tr>\n",
       "      <th>1984-09-17</th>\n",
       "      <td>28.62</td>\n",
       "      <td>6886400</td>\n",
       "      <td>3.27</td>\n",
       "    </tr>\n",
       "    <tr>\n",
       "      <th>1984-09-18</th>\n",
       "      <td>27.62</td>\n",
       "      <td>3495200</td>\n",
       "      <td>3.15</td>\n",
       "    </tr>\n",
       "    <tr>\n",
       "      <th>1984-09-19</th>\n",
       "      <td>27.00</td>\n",
       "      <td>3816000</td>\n",
       "      <td>3.08</td>\n",
       "    </tr>\n",
       "    <tr>\n",
       "      <th>1984-09-20</th>\n",
       "      <td>27.12</td>\n",
       "      <td>2387200</td>\n",
       "      <td>3.09</td>\n",
       "    </tr>\n",
       "    <tr>\n",
       "      <th>1984-09-21</th>\n",
       "      <td>26.87</td>\n",
       "      <td>3591200</td>\n",
       "      <td>3.07</td>\n",
       "    </tr>\n",
       "    <tr>\n",
       "      <th>1984-09-24</th>\n",
       "      <td>26.62</td>\n",
       "      <td>2833600</td>\n",
       "      <td>3.04</td>\n",
       "    </tr>\n",
       "    <tr>\n",
       "      <th>1984-09-25</th>\n",
       "      <td>26.12</td>\n",
       "      <td>5977600</td>\n",
       "      <td>2.98</td>\n",
       "    </tr>\n",
       "    <tr>\n",
       "      <th>1984-09-26</th>\n",
       "      <td>25.75</td>\n",
       "      <td>3987200</td>\n",
       "      <td>2.94</td>\n",
       "    </tr>\n",
       "    <tr>\n",
       "      <th>1984-09-27</th>\n",
       "      <td>25.75</td>\n",
       "      <td>3796000</td>\n",
       "      <td>2.94</td>\n",
       "    </tr>\n",
       "    <tr>\n",
       "      <th>1984-09-28</th>\n",
       "      <td>25.12</td>\n",
       "      <td>8344800</td>\n",
       "      <td>2.87</td>\n",
       "    </tr>\n",
       "    <tr>\n",
       "      <th>1984-10-01</th>\n",
       "      <td>24.50</td>\n",
       "      <td>3521600</td>\n",
       "      <td>2.80</td>\n",
       "    </tr>\n",
       "    <tr>\n",
       "      <th>1984-10-02</th>\n",
       "      <td>24.75</td>\n",
       "      <td>4258400</td>\n",
       "      <td>2.82</td>\n",
       "    </tr>\n",
       "    <tr>\n",
       "      <th>1984-10-03</th>\n",
       "      <td>25.12</td>\n",
       "      <td>4335200</td>\n",
       "      <td>2.87</td>\n",
       "    </tr>\n",
       "    <tr>\n",
       "      <th>1984-10-04</th>\n",
       "      <td>25.37</td>\n",
       "      <td>4482400</td>\n",
       "      <td>2.89</td>\n",
       "    </tr>\n",
       "    <tr>\n",
       "      <th>1984-10-05</th>\n",
       "      <td>24.87</td>\n",
       "      <td>3510400</td>\n",
       "      <td>2.84</td>\n",
       "    </tr>\n",
       "    <tr>\n",
       "      <th>1984-10-08</th>\n",
       "      <td>24.87</td>\n",
       "      <td>1721600</td>\n",
       "      <td>2.84</td>\n",
       "    </tr>\n",
       "    <tr>\n",
       "      <th>1984-10-09</th>\n",
       "      <td>24.62</td>\n",
       "      <td>4515200</td>\n",
       "      <td>2.81</td>\n",
       "    </tr>\n",
       "    <tr>\n",
       "      <th>1984-10-10</th>\n",
       "      <td>23.87</td>\n",
       "      <td>13070400</td>\n",
       "      <td>2.72</td>\n",
       "    </tr>\n",
       "    <tr>\n",
       "      <th>1984-10-11</th>\n",
       "      <td>23.75</td>\n",
       "      <td>6553600</td>\n",
       "      <td>2.71</td>\n",
       "    </tr>\n",
       "    <tr>\n",
       "      <th>1984-10-12</th>\n",
       "      <td>22.75</td>\n",
       "      <td>9522400</td>\n",
       "      <td>2.60</td>\n",
       "    </tr>\n",
       "    <tr>\n",
       "      <th>1984-10-15</th>\n",
       "      <td>24.00</td>\n",
       "      <td>8715200</td>\n",
       "      <td>2.74</td>\n",
       "    </tr>\n",
       "    <tr>\n",
       "      <th>1984-10-16</th>\n",
       "      <td>23.87</td>\n",
       "      <td>4246400</td>\n",
       "      <td>2.72</td>\n",
       "    </tr>\n",
       "    <tr>\n",
       "      <th>1984-10-17</th>\n",
       "      <td>24.87</td>\n",
       "      <td>5636000</td>\n",
       "      <td>2.84</td>\n",
       "    </tr>\n",
       "    <tr>\n",
       "      <th>1984-10-18</th>\n",
       "      <td>25.62</td>\n",
       "      <td>8842400</td>\n",
       "      <td>2.92</td>\n",
       "    </tr>\n",
       "    <tr>\n",
       "      <th>...</th>\n",
       "      <td>...</td>\n",
       "      <td>...</td>\n",
       "      <td>...</td>\n",
       "    </tr>\n",
       "    <tr>\n",
       "      <th>2008-08-27</th>\n",
       "      <td>174.67</td>\n",
       "      <td>17045900</td>\n",
       "      <td>174.67</td>\n",
       "    </tr>\n",
       "    <tr>\n",
       "      <th>2008-08-28</th>\n",
       "      <td>173.74</td>\n",
       "      <td>15394500</td>\n",
       "      <td>173.74</td>\n",
       "    </tr>\n",
       "    <tr>\n",
       "      <th>2008-08-29</th>\n",
       "      <td>169.53</td>\n",
       "      <td>21403200</td>\n",
       "      <td>169.53</td>\n",
       "    </tr>\n",
       "    <tr>\n",
       "      <th>2008-09-02</th>\n",
       "      <td>166.19</td>\n",
       "      <td>27884400</td>\n",
       "      <td>166.19</td>\n",
       "    </tr>\n",
       "    <tr>\n",
       "      <th>2008-09-03</th>\n",
       "      <td>166.96</td>\n",
       "      <td>26244100</td>\n",
       "      <td>166.96</td>\n",
       "    </tr>\n",
       "    <tr>\n",
       "      <th>2008-09-04</th>\n",
       "      <td>161.22</td>\n",
       "      <td>26549500</td>\n",
       "      <td>161.22</td>\n",
       "    </tr>\n",
       "    <tr>\n",
       "      <th>2008-09-05</th>\n",
       "      <td>160.18</td>\n",
       "      <td>28083800</td>\n",
       "      <td>160.18</td>\n",
       "    </tr>\n",
       "    <tr>\n",
       "      <th>2008-09-08</th>\n",
       "      <td>157.92</td>\n",
       "      <td>37356400</td>\n",
       "      <td>157.92</td>\n",
       "    </tr>\n",
       "    <tr>\n",
       "      <th>2008-09-09</th>\n",
       "      <td>151.68</td>\n",
       "      <td>44442500</td>\n",
       "      <td>151.68</td>\n",
       "    </tr>\n",
       "    <tr>\n",
       "      <th>2008-09-10</th>\n",
       "      <td>151.61</td>\n",
       "      <td>34755100</td>\n",
       "      <td>151.61</td>\n",
       "    </tr>\n",
       "    <tr>\n",
       "      <th>2008-09-11</th>\n",
       "      <td>152.65</td>\n",
       "      <td>34666800</td>\n",
       "      <td>152.65</td>\n",
       "    </tr>\n",
       "    <tr>\n",
       "      <th>2008-09-12</th>\n",
       "      <td>148.94</td>\n",
       "      <td>28322400</td>\n",
       "      <td>148.94</td>\n",
       "    </tr>\n",
       "    <tr>\n",
       "      <th>2008-09-15</th>\n",
       "      <td>140.36</td>\n",
       "      <td>32852600</td>\n",
       "      <td>140.36</td>\n",
       "    </tr>\n",
       "    <tr>\n",
       "      <th>2008-09-16</th>\n",
       "      <td>139.88</td>\n",
       "      <td>42804800</td>\n",
       "      <td>139.88</td>\n",
       "    </tr>\n",
       "    <tr>\n",
       "      <th>2008-09-17</th>\n",
       "      <td>127.83</td>\n",
       "      <td>42847200</td>\n",
       "      <td>127.83</td>\n",
       "    </tr>\n",
       "    <tr>\n",
       "      <th>2008-09-18</th>\n",
       "      <td>134.09</td>\n",
       "      <td>59819300</td>\n",
       "      <td>134.09</td>\n",
       "    </tr>\n",
       "    <tr>\n",
       "      <th>2008-09-19</th>\n",
       "      <td>140.91</td>\n",
       "      <td>51102700</td>\n",
       "      <td>140.91</td>\n",
       "    </tr>\n",
       "    <tr>\n",
       "      <th>2008-09-22</th>\n",
       "      <td>131.05</td>\n",
       "      <td>30577300</td>\n",
       "      <td>131.05</td>\n",
       "    </tr>\n",
       "    <tr>\n",
       "      <th>2008-09-23</th>\n",
       "      <td>126.84</td>\n",
       "      <td>45727300</td>\n",
       "      <td>126.84</td>\n",
       "    </tr>\n",
       "    <tr>\n",
       "      <th>2008-09-24</th>\n",
       "      <td>128.71</td>\n",
       "      <td>37393400</td>\n",
       "      <td>128.71</td>\n",
       "    </tr>\n",
       "    <tr>\n",
       "      <th>2008-09-25</th>\n",
       "      <td>131.93</td>\n",
       "      <td>35865600</td>\n",
       "      <td>131.93</td>\n",
       "    </tr>\n",
       "    <tr>\n",
       "      <th>2008-09-26</th>\n",
       "      <td>128.24</td>\n",
       "      <td>40208700</td>\n",
       "      <td>128.24</td>\n",
       "    </tr>\n",
       "    <tr>\n",
       "      <th>2008-09-29</th>\n",
       "      <td>105.26</td>\n",
       "      <td>93581400</td>\n",
       "      <td>105.26</td>\n",
       "    </tr>\n",
       "    <tr>\n",
       "      <th>2008-09-30</th>\n",
       "      <td>113.66</td>\n",
       "      <td>58095800</td>\n",
       "      <td>113.66</td>\n",
       "    </tr>\n",
       "    <tr>\n",
       "      <th>2008-10-01</th>\n",
       "      <td>109.12</td>\n",
       "      <td>46303000</td>\n",
       "      <td>109.12</td>\n",
       "    </tr>\n",
       "    <tr>\n",
       "      <th>2008-10-02</th>\n",
       "      <td>100.10</td>\n",
       "      <td>57477300</td>\n",
       "      <td>100.10</td>\n",
       "    </tr>\n",
       "    <tr>\n",
       "      <th>2008-10-03</th>\n",
       "      <td>97.07</td>\n",
       "      <td>81942800</td>\n",
       "      <td>97.07</td>\n",
       "    </tr>\n",
       "    <tr>\n",
       "      <th>2008-10-06</th>\n",
       "      <td>98.14</td>\n",
       "      <td>75264900</td>\n",
       "      <td>98.14</td>\n",
       "    </tr>\n",
       "    <tr>\n",
       "      <th>2008-10-07</th>\n",
       "      <td>89.16</td>\n",
       "      <td>67099000</td>\n",
       "      <td>89.16</td>\n",
       "    </tr>\n",
       "    <tr>\n",
       "      <th>2008-10-08</th>\n",
       "      <td>89.79</td>\n",
       "      <td>78847900</td>\n",
       "      <td>89.79</td>\n",
       "    </tr>\n",
       "  </tbody>\n",
       "</table>\n",
       "<p>6077 rows × 3 columns</p>\n",
       "</div>"
      ],
      "text/plain": [
       "             Close    Volume  Adj Close\n",
       "Date                                   \n",
       "1984-09-07   26.50   2981600       3.02\n",
       "1984-09-10   26.37   2346400       3.01\n",
       "1984-09-11   26.87   5444000       3.07\n",
       "1984-09-12   26.12   4773600       2.98\n",
       "1984-09-13   27.50   7429600       3.14\n",
       "1984-09-14   27.87   8826400       3.18\n",
       "1984-09-17   28.62   6886400       3.27\n",
       "1984-09-18   27.62   3495200       3.15\n",
       "1984-09-19   27.00   3816000       3.08\n",
       "1984-09-20   27.12   2387200       3.09\n",
       "1984-09-21   26.87   3591200       3.07\n",
       "1984-09-24   26.62   2833600       3.04\n",
       "1984-09-25   26.12   5977600       2.98\n",
       "1984-09-26   25.75   3987200       2.94\n",
       "1984-09-27   25.75   3796000       2.94\n",
       "1984-09-28   25.12   8344800       2.87\n",
       "1984-10-01   24.50   3521600       2.80\n",
       "1984-10-02   24.75   4258400       2.82\n",
       "1984-10-03   25.12   4335200       2.87\n",
       "1984-10-04   25.37   4482400       2.89\n",
       "1984-10-05   24.87   3510400       2.84\n",
       "1984-10-08   24.87   1721600       2.84\n",
       "1984-10-09   24.62   4515200       2.81\n",
       "1984-10-10   23.87  13070400       2.72\n",
       "1984-10-11   23.75   6553600       2.71\n",
       "1984-10-12   22.75   9522400       2.60\n",
       "1984-10-15   24.00   8715200       2.74\n",
       "1984-10-16   23.87   4246400       2.72\n",
       "1984-10-17   24.87   5636000       2.84\n",
       "1984-10-18   25.62   8842400       2.92\n",
       "...            ...       ...        ...\n",
       "2008-08-27  174.67  17045900     174.67\n",
       "2008-08-28  173.74  15394500     173.74\n",
       "2008-08-29  169.53  21403200     169.53\n",
       "2008-09-02  166.19  27884400     166.19\n",
       "2008-09-03  166.96  26244100     166.96\n",
       "2008-09-04  161.22  26549500     161.22\n",
       "2008-09-05  160.18  28083800     160.18\n",
       "2008-09-08  157.92  37356400     157.92\n",
       "2008-09-09  151.68  44442500     151.68\n",
       "2008-09-10  151.61  34755100     151.61\n",
       "2008-09-11  152.65  34666800     152.65\n",
       "2008-09-12  148.94  28322400     148.94\n",
       "2008-09-15  140.36  32852600     140.36\n",
       "2008-09-16  139.88  42804800     139.88\n",
       "2008-09-17  127.83  42847200     127.83\n",
       "2008-09-18  134.09  59819300     134.09\n",
       "2008-09-19  140.91  51102700     140.91\n",
       "2008-09-22  131.05  30577300     131.05\n",
       "2008-09-23  126.84  45727300     126.84\n",
       "2008-09-24  128.71  37393400     128.71\n",
       "2008-09-25  131.93  35865600     131.93\n",
       "2008-09-26  128.24  40208700     128.24\n",
       "2008-09-29  105.26  93581400     105.26\n",
       "2008-09-30  113.66  58095800     113.66\n",
       "2008-10-01  109.12  46303000     109.12\n",
       "2008-10-02  100.10  57477300     100.10\n",
       "2008-10-03   97.07  81942800      97.07\n",
       "2008-10-06   98.14  75264900      98.14\n",
       "2008-10-07   89.16  67099000      89.16\n",
       "2008-10-08   89.79  78847900      89.79\n",
       "\n",
       "[6077 rows x 3 columns]"
      ]
     },
     "execution_count": 67,
     "metadata": {},
     "output_type": "execute_result"
    }
   ],
   "source": [
    "AAPL.loc[:'2008-10-08', 'Close':'Adj Close']"
   ]
  },
  {
   "cell_type": "code",
   "execution_count": 22,
   "metadata": {},
   "outputs": [
    {
     "data": {
      "text/html": [
       "<div>\n",
       "<style scoped>\n",
       "    .dataframe tbody tr th:only-of-type {\n",
       "        vertical-align: middle;\n",
       "    }\n",
       "\n",
       "    .dataframe tbody tr th {\n",
       "        vertical-align: top;\n",
       "    }\n",
       "\n",
       "    .dataframe thead th {\n",
       "        text-align: right;\n",
       "    }\n",
       "</style>\n",
       "<table border=\"1\" class=\"dataframe\">\n",
       "  <thead>\n",
       "    <tr style=\"text-align: right;\">\n",
       "      <th></th>\n",
       "      <th>Open</th>\n",
       "      <th>High</th>\n",
       "      <th>Low</th>\n",
       "      <th>Close</th>\n",
       "      <th>Volume</th>\n",
       "      <th>Adj Close</th>\n",
       "    </tr>\n",
       "    <tr>\n",
       "      <th>Date</th>\n",
       "      <th></th>\n",
       "      <th></th>\n",
       "      <th></th>\n",
       "      <th></th>\n",
       "      <th></th>\n",
       "      <th></th>\n",
       "    </tr>\n",
       "  </thead>\n",
       "  <tbody>\n",
       "    <tr>\n",
       "      <td>2008-10-08</td>\n",
       "      <td>85.91</td>\n",
       "      <td>96.33</td>\n",
       "      <td>85.68</td>\n",
       "      <td>89.79</td>\n",
       "      <td>78847900</td>\n",
       "      <td>89.79</td>\n",
       "    </tr>\n",
       "    <tr>\n",
       "      <td>2008-10-09</td>\n",
       "      <td>93.35</td>\n",
       "      <td>95.80</td>\n",
       "      <td>86.60</td>\n",
       "      <td>88.74</td>\n",
       "      <td>57763700</td>\n",
       "      <td>88.74</td>\n",
       "    </tr>\n",
       "    <tr>\n",
       "      <td>2008-10-10</td>\n",
       "      <td>85.70</td>\n",
       "      <td>100.00</td>\n",
       "      <td>85.00</td>\n",
       "      <td>96.80</td>\n",
       "      <td>79260700</td>\n",
       "      <td>96.80</td>\n",
       "    </tr>\n",
       "    <tr>\n",
       "      <td>2008-10-13</td>\n",
       "      <td>104.55</td>\n",
       "      <td>110.53</td>\n",
       "      <td>101.02</td>\n",
       "      <td>110.26</td>\n",
       "      <td>54967000</td>\n",
       "      <td>110.26</td>\n",
       "    </tr>\n",
       "    <tr>\n",
       "      <td>2008-10-14</td>\n",
       "      <td>116.26</td>\n",
       "      <td>116.40</td>\n",
       "      <td>103.14</td>\n",
       "      <td>104.08</td>\n",
       "      <td>70749800</td>\n",
       "      <td>104.08</td>\n",
       "    </tr>\n",
       "  </tbody>\n",
       "</table>\n",
       "</div>"
      ],
      "text/plain": [
       "              Open    High     Low   Close    Volume  Adj Close\n",
       "Date                                                           \n",
       "2008-10-08   85.91   96.33   85.68   89.79  78847900      89.79\n",
       "2008-10-09   93.35   95.80   86.60   88.74  57763700      88.74\n",
       "2008-10-10   85.70  100.00   85.00   96.80  79260700      96.80\n",
       "2008-10-13  104.55  110.53  101.02  110.26  54967000     110.26\n",
       "2008-10-14  116.26  116.40  103.14  104.08  70749800     104.08"
      ]
     },
     "execution_count": 22,
     "metadata": {},
     "output_type": "execute_result"
    }
   ],
   "source": [
    "AAPL.loc['2008-10-08':,:]"
   ]
  },
  {
   "cell_type": "code",
   "execution_count": 23,
   "metadata": {},
   "outputs": [
    {
     "data": {
      "text/html": [
       "<div>\n",
       "<style scoped>\n",
       "    .dataframe tbody tr th:only-of-type {\n",
       "        vertical-align: middle;\n",
       "    }\n",
       "\n",
       "    .dataframe tbody tr th {\n",
       "        vertical-align: top;\n",
       "    }\n",
       "\n",
       "    .dataframe thead th {\n",
       "        text-align: right;\n",
       "    }\n",
       "</style>\n",
       "<table border=\"1\" class=\"dataframe\">\n",
       "  <thead>\n",
       "    <tr style=\"text-align: right;\">\n",
       "      <th></th>\n",
       "      <th>Close</th>\n",
       "      <th>Adj Close</th>\n",
       "    </tr>\n",
       "    <tr>\n",
       "      <th>Date</th>\n",
       "      <th></th>\n",
       "      <th></th>\n",
       "    </tr>\n",
       "  </thead>\n",
       "  <tbody>\n",
       "    <tr>\n",
       "      <td>1984-09-07</td>\n",
       "      <td>26.50</td>\n",
       "      <td>3.02</td>\n",
       "    </tr>\n",
       "    <tr>\n",
       "      <td>1984-09-10</td>\n",
       "      <td>26.37</td>\n",
       "      <td>3.01</td>\n",
       "    </tr>\n",
       "    <tr>\n",
       "      <td>1984-09-11</td>\n",
       "      <td>26.87</td>\n",
       "      <td>3.07</td>\n",
       "    </tr>\n",
       "    <tr>\n",
       "      <td>1984-09-12</td>\n",
       "      <td>26.12</td>\n",
       "      <td>2.98</td>\n",
       "    </tr>\n",
       "    <tr>\n",
       "      <td>1984-09-13</td>\n",
       "      <td>27.50</td>\n",
       "      <td>3.14</td>\n",
       "    </tr>\n",
       "    <tr>\n",
       "      <td>...</td>\n",
       "      <td>...</td>\n",
       "      <td>...</td>\n",
       "    </tr>\n",
       "    <tr>\n",
       "      <td>2008-10-02</td>\n",
       "      <td>100.10</td>\n",
       "      <td>100.10</td>\n",
       "    </tr>\n",
       "    <tr>\n",
       "      <td>2008-10-03</td>\n",
       "      <td>97.07</td>\n",
       "      <td>97.07</td>\n",
       "    </tr>\n",
       "    <tr>\n",
       "      <td>2008-10-06</td>\n",
       "      <td>98.14</td>\n",
       "      <td>98.14</td>\n",
       "    </tr>\n",
       "    <tr>\n",
       "      <td>2008-10-07</td>\n",
       "      <td>89.16</td>\n",
       "      <td>89.16</td>\n",
       "    </tr>\n",
       "    <tr>\n",
       "      <td>2008-10-08</td>\n",
       "      <td>89.79</td>\n",
       "      <td>89.79</td>\n",
       "    </tr>\n",
       "  </tbody>\n",
       "</table>\n",
       "<p>6077 rows × 2 columns</p>\n",
       "</div>"
      ],
      "text/plain": [
       "             Close  Adj Close\n",
       "Date                         \n",
       "1984-09-07   26.50       3.02\n",
       "1984-09-10   26.37       3.01\n",
       "1984-09-11   26.87       3.07\n",
       "1984-09-12   26.12       2.98\n",
       "1984-09-13   27.50       3.14\n",
       "...            ...        ...\n",
       "2008-10-02  100.10     100.10\n",
       "2008-10-03   97.07      97.07\n",
       "2008-10-06   98.14      98.14\n",
       "2008-10-07   89.16      89.16\n",
       "2008-10-08   89.79      89.79\n",
       "\n",
       "[6077 rows x 2 columns]"
      ]
     },
     "execution_count": 23,
     "metadata": {},
     "output_type": "execute_result"
    }
   ],
   "source": [
    "AAPL.loc[:'2008-10-08', ['Close', 'Adj Close']]"
   ]
  },
  {
   "cell_type": "markdown",
   "metadata": {},
   "source": [
    "## Filtering"
   ]
  },
  {
   "cell_type": "code",
   "execution_count": 24,
   "metadata": {},
   "outputs": [],
   "source": [
    "lima_terakhir = AAPL.iloc[-5:]"
   ]
  },
  {
   "cell_type": "code",
   "execution_count": 25,
   "metadata": {},
   "outputs": [
    {
     "data": {
      "text/html": [
       "<div>\n",
       "<style scoped>\n",
       "    .dataframe tbody tr th:only-of-type {\n",
       "        vertical-align: middle;\n",
       "    }\n",
       "\n",
       "    .dataframe tbody tr th {\n",
       "        vertical-align: top;\n",
       "    }\n",
       "\n",
       "    .dataframe thead th {\n",
       "        text-align: right;\n",
       "    }\n",
       "</style>\n",
       "<table border=\"1\" class=\"dataframe\">\n",
       "  <thead>\n",
       "    <tr style=\"text-align: right;\">\n",
       "      <th></th>\n",
       "      <th>Open</th>\n",
       "      <th>High</th>\n",
       "      <th>Low</th>\n",
       "      <th>Close</th>\n",
       "      <th>Volume</th>\n",
       "      <th>Adj Close</th>\n",
       "    </tr>\n",
       "    <tr>\n",
       "      <th>Date</th>\n",
       "      <th></th>\n",
       "      <th></th>\n",
       "      <th></th>\n",
       "      <th></th>\n",
       "      <th></th>\n",
       "      <th></th>\n",
       "    </tr>\n",
       "  </thead>\n",
       "  <tbody>\n",
       "    <tr>\n",
       "      <td>2008-10-08</td>\n",
       "      <td>85.91</td>\n",
       "      <td>96.33</td>\n",
       "      <td>85.68</td>\n",
       "      <td>89.79</td>\n",
       "      <td>78847900</td>\n",
       "      <td>89.79</td>\n",
       "    </tr>\n",
       "    <tr>\n",
       "      <td>2008-10-09</td>\n",
       "      <td>93.35</td>\n",
       "      <td>95.80</td>\n",
       "      <td>86.60</td>\n",
       "      <td>88.74</td>\n",
       "      <td>57763700</td>\n",
       "      <td>88.74</td>\n",
       "    </tr>\n",
       "    <tr>\n",
       "      <td>2008-10-10</td>\n",
       "      <td>85.70</td>\n",
       "      <td>100.00</td>\n",
       "      <td>85.00</td>\n",
       "      <td>96.80</td>\n",
       "      <td>79260700</td>\n",
       "      <td>96.80</td>\n",
       "    </tr>\n",
       "    <tr>\n",
       "      <td>2008-10-13</td>\n",
       "      <td>104.55</td>\n",
       "      <td>110.53</td>\n",
       "      <td>101.02</td>\n",
       "      <td>110.26</td>\n",
       "      <td>54967000</td>\n",
       "      <td>110.26</td>\n",
       "    </tr>\n",
       "    <tr>\n",
       "      <td>2008-10-14</td>\n",
       "      <td>116.26</td>\n",
       "      <td>116.40</td>\n",
       "      <td>103.14</td>\n",
       "      <td>104.08</td>\n",
       "      <td>70749800</td>\n",
       "      <td>104.08</td>\n",
       "    </tr>\n",
       "  </tbody>\n",
       "</table>\n",
       "</div>"
      ],
      "text/plain": [
       "              Open    High     Low   Close    Volume  Adj Close\n",
       "Date                                                           \n",
       "2008-10-08   85.91   96.33   85.68   89.79  78847900      89.79\n",
       "2008-10-09   93.35   95.80   86.60   88.74  57763700      88.74\n",
       "2008-10-10   85.70  100.00   85.00   96.80  79260700      96.80\n",
       "2008-10-13  104.55  110.53  101.02  110.26  54967000     110.26\n",
       "2008-10-14  116.26  116.40  103.14  104.08  70749800     104.08"
      ]
     },
     "execution_count": 25,
     "metadata": {},
     "output_type": "execute_result"
    }
   ],
   "source": [
    "lima_terakhir"
   ]
  },
  {
   "cell_type": "code",
   "execution_count": 26,
   "metadata": {},
   "outputs": [],
   "source": [
    "diatas_seratus = lima_terakhir['Adj Close'] > 100"
   ]
  },
  {
   "cell_type": "code",
   "execution_count": 28,
   "metadata": {},
   "outputs": [
    {
     "data": {
      "text/html": [
       "<div>\n",
       "<style scoped>\n",
       "    .dataframe tbody tr th:only-of-type {\n",
       "        vertical-align: middle;\n",
       "    }\n",
       "\n",
       "    .dataframe tbody tr th {\n",
       "        vertical-align: top;\n",
       "    }\n",
       "\n",
       "    .dataframe thead th {\n",
       "        text-align: right;\n",
       "    }\n",
       "</style>\n",
       "<table border=\"1\" class=\"dataframe\">\n",
       "  <thead>\n",
       "    <tr style=\"text-align: right;\">\n",
       "      <th></th>\n",
       "      <th>Open</th>\n",
       "      <th>High</th>\n",
       "      <th>Low</th>\n",
       "      <th>Close</th>\n",
       "      <th>Volume</th>\n",
       "      <th>Adj Close</th>\n",
       "    </tr>\n",
       "    <tr>\n",
       "      <th>Date</th>\n",
       "      <th></th>\n",
       "      <th></th>\n",
       "      <th></th>\n",
       "      <th></th>\n",
       "      <th></th>\n",
       "      <th></th>\n",
       "    </tr>\n",
       "  </thead>\n",
       "  <tbody>\n",
       "    <tr>\n",
       "      <td>2008-10-13</td>\n",
       "      <td>104.55</td>\n",
       "      <td>110.53</td>\n",
       "      <td>101.02</td>\n",
       "      <td>110.26</td>\n",
       "      <td>54967000</td>\n",
       "      <td>110.26</td>\n",
       "    </tr>\n",
       "    <tr>\n",
       "      <td>2008-10-14</td>\n",
       "      <td>116.26</td>\n",
       "      <td>116.40</td>\n",
       "      <td>103.14</td>\n",
       "      <td>104.08</td>\n",
       "      <td>70749800</td>\n",
       "      <td>104.08</td>\n",
       "    </tr>\n",
       "  </tbody>\n",
       "</table>\n",
       "</div>"
      ],
      "text/plain": [
       "              Open    High     Low   Close    Volume  Adj Close\n",
       "Date                                                           \n",
       "2008-10-13  104.55  110.53  101.02  110.26  54967000     110.26\n",
       "2008-10-14  116.26  116.40  103.14  104.08  70749800     104.08"
      ]
     },
     "execution_count": 28,
     "metadata": {},
     "output_type": "execute_result"
    }
   ],
   "source": [
    "lima_terakhir[diatas_seratus]"
   ]
  },
  {
   "cell_type": "markdown",
   "metadata": {},
   "source": [
    "\n",
    "\n",
    "## head()"
   ]
  },
  {
   "cell_type": "code",
   "execution_count": 29,
   "metadata": {},
   "outputs": [
    {
     "data": {
      "text/html": [
       "<div>\n",
       "<style scoped>\n",
       "    .dataframe tbody tr th:only-of-type {\n",
       "        vertical-align: middle;\n",
       "    }\n",
       "\n",
       "    .dataframe tbody tr th {\n",
       "        vertical-align: top;\n",
       "    }\n",
       "\n",
       "    .dataframe thead th {\n",
       "        text-align: right;\n",
       "    }\n",
       "</style>\n",
       "<table border=\"1\" class=\"dataframe\">\n",
       "  <thead>\n",
       "    <tr style=\"text-align: right;\">\n",
       "      <th></th>\n",
       "      <th>Open</th>\n",
       "      <th>High</th>\n",
       "      <th>Low</th>\n",
       "      <th>Close</th>\n",
       "      <th>Volume</th>\n",
       "      <th>Adj Close</th>\n",
       "    </tr>\n",
       "    <tr>\n",
       "      <th>Date</th>\n",
       "      <th></th>\n",
       "      <th></th>\n",
       "      <th></th>\n",
       "      <th></th>\n",
       "      <th></th>\n",
       "      <th></th>\n",
       "    </tr>\n",
       "  </thead>\n",
       "  <tbody>\n",
       "    <tr>\n",
       "      <td>1984-09-07</td>\n",
       "      <td>26.50</td>\n",
       "      <td>26.87</td>\n",
       "      <td>26.25</td>\n",
       "      <td>26.50</td>\n",
       "      <td>2981600</td>\n",
       "      <td>3.02</td>\n",
       "    </tr>\n",
       "    <tr>\n",
       "      <td>1984-09-10</td>\n",
       "      <td>26.50</td>\n",
       "      <td>26.62</td>\n",
       "      <td>25.87</td>\n",
       "      <td>26.37</td>\n",
       "      <td>2346400</td>\n",
       "      <td>3.01</td>\n",
       "    </tr>\n",
       "    <tr>\n",
       "      <td>1984-09-11</td>\n",
       "      <td>26.62</td>\n",
       "      <td>27.37</td>\n",
       "      <td>26.62</td>\n",
       "      <td>26.87</td>\n",
       "      <td>5444000</td>\n",
       "      <td>3.07</td>\n",
       "    </tr>\n",
       "    <tr>\n",
       "      <td>1984-09-12</td>\n",
       "      <td>26.87</td>\n",
       "      <td>27.00</td>\n",
       "      <td>26.12</td>\n",
       "      <td>26.12</td>\n",
       "      <td>4773600</td>\n",
       "      <td>2.98</td>\n",
       "    </tr>\n",
       "    <tr>\n",
       "      <td>1984-09-13</td>\n",
       "      <td>27.50</td>\n",
       "      <td>27.62</td>\n",
       "      <td>27.50</td>\n",
       "      <td>27.50</td>\n",
       "      <td>7429600</td>\n",
       "      <td>3.14</td>\n",
       "    </tr>\n",
       "  </tbody>\n",
       "</table>\n",
       "</div>"
      ],
      "text/plain": [
       "             Open   High    Low  Close   Volume  Adj Close\n",
       "Date                                                      \n",
       "1984-09-07  26.50  26.87  26.25  26.50  2981600       3.02\n",
       "1984-09-10  26.50  26.62  25.87  26.37  2346400       3.01\n",
       "1984-09-11  26.62  27.37  26.62  26.87  5444000       3.07\n",
       "1984-09-12  26.87  27.00  26.12  26.12  4773600       2.98\n",
       "1984-09-13  27.50  27.62  27.50  27.50  7429600       3.14"
      ]
     },
     "execution_count": 29,
     "metadata": {},
     "output_type": "execute_result"
    }
   ],
   "source": [
    "AAPL.head(5)"
   ]
  },
  {
   "cell_type": "code",
   "execution_count": 30,
   "metadata": {},
   "outputs": [
    {
     "data": {
      "text/html": [
       "<div>\n",
       "<style scoped>\n",
       "    .dataframe tbody tr th:only-of-type {\n",
       "        vertical-align: middle;\n",
       "    }\n",
       "\n",
       "    .dataframe tbody tr th {\n",
       "        vertical-align: top;\n",
       "    }\n",
       "\n",
       "    .dataframe thead th {\n",
       "        text-align: right;\n",
       "    }\n",
       "</style>\n",
       "<table border=\"1\" class=\"dataframe\">\n",
       "  <thead>\n",
       "    <tr style=\"text-align: right;\">\n",
       "      <th></th>\n",
       "      <th>Open</th>\n",
       "      <th>High</th>\n",
       "      <th>Low</th>\n",
       "      <th>Close</th>\n",
       "      <th>Volume</th>\n",
       "      <th>Adj Close</th>\n",
       "    </tr>\n",
       "    <tr>\n",
       "      <th>Date</th>\n",
       "      <th></th>\n",
       "      <th></th>\n",
       "      <th></th>\n",
       "      <th></th>\n",
       "      <th></th>\n",
       "      <th></th>\n",
       "    </tr>\n",
       "  </thead>\n",
       "  <tbody>\n",
       "    <tr>\n",
       "      <td>1984-09-07</td>\n",
       "      <td>26.5</td>\n",
       "      <td>26.87</td>\n",
       "      <td>26.25</td>\n",
       "      <td>26.50</td>\n",
       "      <td>2981600</td>\n",
       "      <td>3.02</td>\n",
       "    </tr>\n",
       "    <tr>\n",
       "      <td>1984-09-10</td>\n",
       "      <td>26.5</td>\n",
       "      <td>26.62</td>\n",
       "      <td>25.87</td>\n",
       "      <td>26.37</td>\n",
       "      <td>2346400</td>\n",
       "      <td>3.01</td>\n",
       "    </tr>\n",
       "  </tbody>\n",
       "</table>\n",
       "</div>"
      ],
      "text/plain": [
       "            Open   High    Low  Close   Volume  Adj Close\n",
       "Date                                                     \n",
       "1984-09-07  26.5  26.87  26.25  26.50  2981600       3.02\n",
       "1984-09-10  26.5  26.62  25.87  26.37  2346400       3.01"
      ]
     },
     "execution_count": 30,
     "metadata": {},
     "output_type": "execute_result"
    }
   ],
   "source": [
    "AAPL.head(2)"
   ]
  },
  {
   "cell_type": "markdown",
   "metadata": {},
   "source": [
    "## tail()"
   ]
  },
  {
   "cell_type": "code",
   "execution_count": 31,
   "metadata": {},
   "outputs": [
    {
     "data": {
      "text/html": [
       "<div>\n",
       "<style scoped>\n",
       "    .dataframe tbody tr th:only-of-type {\n",
       "        vertical-align: middle;\n",
       "    }\n",
       "\n",
       "    .dataframe tbody tr th {\n",
       "        vertical-align: top;\n",
       "    }\n",
       "\n",
       "    .dataframe thead th {\n",
       "        text-align: right;\n",
       "    }\n",
       "</style>\n",
       "<table border=\"1\" class=\"dataframe\">\n",
       "  <thead>\n",
       "    <tr style=\"text-align: right;\">\n",
       "      <th></th>\n",
       "      <th>Open</th>\n",
       "      <th>High</th>\n",
       "      <th>Low</th>\n",
       "      <th>Close</th>\n",
       "      <th>Volume</th>\n",
       "      <th>Adj Close</th>\n",
       "    </tr>\n",
       "    <tr>\n",
       "      <th>Date</th>\n",
       "      <th></th>\n",
       "      <th></th>\n",
       "      <th></th>\n",
       "      <th></th>\n",
       "      <th></th>\n",
       "      <th></th>\n",
       "    </tr>\n",
       "  </thead>\n",
       "  <tbody>\n",
       "    <tr>\n",
       "      <td>2008-10-08</td>\n",
       "      <td>85.91</td>\n",
       "      <td>96.33</td>\n",
       "      <td>85.68</td>\n",
       "      <td>89.79</td>\n",
       "      <td>78847900</td>\n",
       "      <td>89.79</td>\n",
       "    </tr>\n",
       "    <tr>\n",
       "      <td>2008-10-09</td>\n",
       "      <td>93.35</td>\n",
       "      <td>95.80</td>\n",
       "      <td>86.60</td>\n",
       "      <td>88.74</td>\n",
       "      <td>57763700</td>\n",
       "      <td>88.74</td>\n",
       "    </tr>\n",
       "    <tr>\n",
       "      <td>2008-10-10</td>\n",
       "      <td>85.70</td>\n",
       "      <td>100.00</td>\n",
       "      <td>85.00</td>\n",
       "      <td>96.80</td>\n",
       "      <td>79260700</td>\n",
       "      <td>96.80</td>\n",
       "    </tr>\n",
       "    <tr>\n",
       "      <td>2008-10-13</td>\n",
       "      <td>104.55</td>\n",
       "      <td>110.53</td>\n",
       "      <td>101.02</td>\n",
       "      <td>110.26</td>\n",
       "      <td>54967000</td>\n",
       "      <td>110.26</td>\n",
       "    </tr>\n",
       "    <tr>\n",
       "      <td>2008-10-14</td>\n",
       "      <td>116.26</td>\n",
       "      <td>116.40</td>\n",
       "      <td>103.14</td>\n",
       "      <td>104.08</td>\n",
       "      <td>70749800</td>\n",
       "      <td>104.08</td>\n",
       "    </tr>\n",
       "  </tbody>\n",
       "</table>\n",
       "</div>"
      ],
      "text/plain": [
       "              Open    High     Low   Close    Volume  Adj Close\n",
       "Date                                                           \n",
       "2008-10-08   85.91   96.33   85.68   89.79  78847900      89.79\n",
       "2008-10-09   93.35   95.80   86.60   88.74  57763700      88.74\n",
       "2008-10-10   85.70  100.00   85.00   96.80  79260700      96.80\n",
       "2008-10-13  104.55  110.53  101.02  110.26  54967000     110.26\n",
       "2008-10-14  116.26  116.40  103.14  104.08  70749800     104.08"
      ]
     },
     "execution_count": 31,
     "metadata": {},
     "output_type": "execute_result"
    }
   ],
   "source": [
    "AAPL.tail()"
   ]
  },
  {
   "cell_type": "code",
   "execution_count": 32,
   "metadata": {},
   "outputs": [
    {
     "data": {
      "text/html": [
       "<div>\n",
       "<style scoped>\n",
       "    .dataframe tbody tr th:only-of-type {\n",
       "        vertical-align: middle;\n",
       "    }\n",
       "\n",
       "    .dataframe tbody tr th {\n",
       "        vertical-align: top;\n",
       "    }\n",
       "\n",
       "    .dataframe thead th {\n",
       "        text-align: right;\n",
       "    }\n",
       "</style>\n",
       "<table border=\"1\" class=\"dataframe\">\n",
       "  <thead>\n",
       "    <tr style=\"text-align: right;\">\n",
       "      <th></th>\n",
       "      <th>Open</th>\n",
       "      <th>High</th>\n",
       "      <th>Low</th>\n",
       "      <th>Close</th>\n",
       "      <th>Volume</th>\n",
       "      <th>Adj Close</th>\n",
       "    </tr>\n",
       "    <tr>\n",
       "      <th>Date</th>\n",
       "      <th></th>\n",
       "      <th></th>\n",
       "      <th></th>\n",
       "      <th></th>\n",
       "      <th></th>\n",
       "      <th></th>\n",
       "    </tr>\n",
       "  </thead>\n",
       "  <tbody>\n",
       "    <tr>\n",
       "      <td>2008-10-10</td>\n",
       "      <td>85.70</td>\n",
       "      <td>100.00</td>\n",
       "      <td>85.00</td>\n",
       "      <td>96.80</td>\n",
       "      <td>79260700</td>\n",
       "      <td>96.80</td>\n",
       "    </tr>\n",
       "    <tr>\n",
       "      <td>2008-10-13</td>\n",
       "      <td>104.55</td>\n",
       "      <td>110.53</td>\n",
       "      <td>101.02</td>\n",
       "      <td>110.26</td>\n",
       "      <td>54967000</td>\n",
       "      <td>110.26</td>\n",
       "    </tr>\n",
       "    <tr>\n",
       "      <td>2008-10-14</td>\n",
       "      <td>116.26</td>\n",
       "      <td>116.40</td>\n",
       "      <td>103.14</td>\n",
       "      <td>104.08</td>\n",
       "      <td>70749800</td>\n",
       "      <td>104.08</td>\n",
       "    </tr>\n",
       "  </tbody>\n",
       "</table>\n",
       "</div>"
      ],
      "text/plain": [
       "              Open    High     Low   Close    Volume  Adj Close\n",
       "Date                                                           \n",
       "2008-10-10   85.70  100.00   85.00   96.80  79260700      96.80\n",
       "2008-10-13  104.55  110.53  101.02  110.26  54967000     110.26\n",
       "2008-10-14  116.26  116.40  103.14  104.08  70749800     104.08"
      ]
     },
     "execution_count": 32,
     "metadata": {},
     "output_type": "execute_result"
    }
   ],
   "source": [
    "AAPL.tail(3)"
   ]
  },
  {
   "cell_type": "markdown",
   "metadata": {},
   "source": [
    "## info()"
   ]
  },
  {
   "cell_type": "code",
   "execution_count": 74,
   "metadata": {},
   "outputs": [
    {
     "name": "stdout",
     "output_type": "stream",
     "text": [
      "<class 'pandas.core.frame.DataFrame'>\n",
      "DatetimeIndex: 6081 entries, 1984-09-07 to 2008-10-14\n",
      "Data columns (total 6 columns):\n",
      "Open         6081 non-null float64\n",
      "High         6081 non-null float64\n",
      "Low          6081 non-null float64\n",
      "Close        6081 non-null float64\n",
      "Volume       6081 non-null int64\n",
      "Adj Close    6081 non-null float64\n",
      "dtypes: float64(5), int64(1)\n",
      "memory usage: 492.6 KB\n"
     ]
    }
   ],
   "source": [
    "AAPL.info()"
   ]
  },
  {
   "cell_type": "markdown",
   "metadata": {},
   "source": [
    "# Series"
   ]
  },
  {
   "cell_type": "code",
   "execution_count": 75,
   "metadata": {
    "collapsed": true
   },
   "outputs": [],
   "source": [
    "low = AAPL['Low']"
   ]
  },
  {
   "cell_type": "code",
   "execution_count": 76,
   "metadata": {},
   "outputs": [
    {
     "data": {
      "text/plain": [
       "pandas.core.series.Series"
      ]
     },
     "execution_count": 76,
     "metadata": {},
     "output_type": "execute_result"
    }
   ],
   "source": [
    "type(low)"
   ]
  },
  {
   "cell_type": "code",
   "execution_count": 77,
   "metadata": {},
   "outputs": [
    {
     "data": {
      "text/plain": [
       "Date\n",
       "1984-09-07    26.25\n",
       "1984-09-10    25.87\n",
       "1984-09-11    26.62\n",
       "1984-09-12    26.12\n",
       "1984-09-13    27.50\n",
       "Name: Low, dtype: float64"
      ]
     },
     "execution_count": 77,
     "metadata": {},
     "output_type": "execute_result"
    }
   ],
   "source": [
    "low.head()"
   ]
  },
  {
   "cell_type": "markdown",
   "metadata": {},
   "source": [
    "# Plotting Data Series"
   ]
  },
  {
   "cell_type": "markdown",
   "metadata": {},
   "source": [
    "## Menggunakan matplotlib"
   ]
  },
  {
   "cell_type": "code",
   "execution_count": 37,
   "metadata": {},
   "outputs": [],
   "source": [
    "import matplotlib.pyplot as plt\n",
    "%matplotlib inline"
   ]
  },
  {
   "cell_type": "code",
   "execution_count": 85,
   "metadata": {},
   "outputs": [
    {
     "data": {
      "text/html": [
       "<div>\n",
       "<style>\n",
       "    .dataframe thead tr:only-child th {\n",
       "        text-align: right;\n",
       "    }\n",
       "\n",
       "    .dataframe thead th {\n",
       "        text-align: left;\n",
       "    }\n",
       "\n",
       "    .dataframe tbody tr th {\n",
       "        vertical-align: top;\n",
       "    }\n",
       "</style>\n",
       "<table border=\"1\" class=\"dataframe\">\n",
       "  <thead>\n",
       "    <tr style=\"text-align: right;\">\n",
       "      <th></th>\n",
       "      <th>Open</th>\n",
       "      <th>High</th>\n",
       "      <th>Low</th>\n",
       "      <th>Close</th>\n",
       "      <th>Volume</th>\n",
       "      <th>Adj Close</th>\n",
       "    </tr>\n",
       "    <tr>\n",
       "      <th>Date</th>\n",
       "      <th></th>\n",
       "      <th></th>\n",
       "      <th></th>\n",
       "      <th></th>\n",
       "      <th></th>\n",
       "      <th></th>\n",
       "    </tr>\n",
       "  </thead>\n",
       "  <tbody>\n",
       "    <tr>\n",
       "      <th>1984-09-07</th>\n",
       "      <td>26.50</td>\n",
       "      <td>26.87</td>\n",
       "      <td>26.25</td>\n",
       "      <td>26.50</td>\n",
       "      <td>2981600</td>\n",
       "      <td>3.02</td>\n",
       "    </tr>\n",
       "    <tr>\n",
       "      <th>1984-09-10</th>\n",
       "      <td>26.50</td>\n",
       "      <td>26.62</td>\n",
       "      <td>25.87</td>\n",
       "      <td>26.37</td>\n",
       "      <td>2346400</td>\n",
       "      <td>3.01</td>\n",
       "    </tr>\n",
       "    <tr>\n",
       "      <th>1984-09-11</th>\n",
       "      <td>26.62</td>\n",
       "      <td>27.37</td>\n",
       "      <td>26.62</td>\n",
       "      <td>26.87</td>\n",
       "      <td>5444000</td>\n",
       "      <td>3.07</td>\n",
       "    </tr>\n",
       "    <tr>\n",
       "      <th>1984-09-12</th>\n",
       "      <td>26.87</td>\n",
       "      <td>27.00</td>\n",
       "      <td>26.12</td>\n",
       "      <td>26.12</td>\n",
       "      <td>4773600</td>\n",
       "      <td>2.98</td>\n",
       "    </tr>\n",
       "    <tr>\n",
       "      <th>1984-09-13</th>\n",
       "      <td>27.50</td>\n",
       "      <td>27.62</td>\n",
       "      <td>27.50</td>\n",
       "      <td>27.50</td>\n",
       "      <td>7429600</td>\n",
       "      <td>3.14</td>\n",
       "    </tr>\n",
       "  </tbody>\n",
       "</table>\n",
       "</div>"
      ],
      "text/plain": [
       "             Open   High    Low  Close   Volume  Adj Close\n",
       "Date                                                      \n",
       "1984-09-07  26.50  26.87  26.25  26.50  2981600       3.02\n",
       "1984-09-10  26.50  26.62  25.87  26.37  2346400       3.01\n",
       "1984-09-11  26.62  27.37  26.62  26.87  5444000       3.07\n",
       "1984-09-12  26.87  27.00  26.12  26.12  4773600       2.98\n",
       "1984-09-13  27.50  27.62  27.50  27.50  7429600       3.14"
      ]
     },
     "execution_count": 85,
     "metadata": {},
     "output_type": "execute_result"
    }
   ],
   "source": [
    "AAPL.head()"
   ]
  },
  {
   "cell_type": "code",
   "execution_count": 86,
   "metadata": {
    "collapsed": true
   },
   "outputs": [],
   "source": [
    "close = AAPL['Close']"
   ]
  },
  {
   "cell_type": "code",
   "execution_count": 88,
   "metadata": {},
   "outputs": [
    {
     "data": {
      "text/plain": [
       "[<matplotlib.lines.Line2D at 0x7f504260eb70>]"
      ]
     },
     "execution_count": 88,
     "metadata": {},
     "output_type": "execute_result"
    },
    {
     "data": {
      "image/png": "[encoded data removed]",
      "text/plain": [
       "<matplotlib.figure.Figure at 0x7f5042d51dd8>"
      ]
     },
     "metadata": {},
     "output_type": "display_data"
    }
   ],
   "source": [
    "plt.plot(close)"
   ]
  },
  {
   "cell_type": "code",
   "execution_count": 107,
   "metadata": {
    "collapsed": true
   },
   "outputs": [],
   "source": [
    "plt.style.use('fivethirtyeight')"
   ]
  },
  {
   "cell_type": "code",
   "execution_count": 108,
   "metadata": {},
   "outputs": [
    {
     "data": {
      "text/plain": [
       "[<matplotlib.lines.Line2D at 0x7f503a8985f8>]"
      ]
     },
     "execution_count": 108,
     "metadata": {},
     "output_type": "execute_result"
    },
    {
     "data": {
      "image/png": "[encoded data removed]",
      "text/plain": [
       "<matplotlib.figure.Figure at 0x7f503b011b70>"
      ]
     },
     "metadata": {},
     "output_type": "display_data"
    }
   ],
   "source": [
    "plt.plot(close)"
   ]
  },
  {
   "cell_type": "code",
   "execution_count": 109,
   "metadata": {},
   "outputs": [
    {
     "data": {
      "text/plain": [
       "[<matplotlib.lines.Line2D at 0x7f503a7db828>]"
      ]
     },
     "execution_count": 109,
     "metadata": {},
     "output_type": "execute_result"
    },
    {
     "data": {
      "image/png": "[encoded data removed]",
      "text/plain": [
       "<matplotlib.figure.Figure at 0x7f503a7abd30>"
      ]
     },
     "metadata": {},
     "output_type": "display_data"
    }
   ],
   "source": [
    "plt.style.use('seaborn')\n",
    "plt.plot(close)"
   ]
  },
  {
   "cell_type": "markdown",
   "metadata": {},
   "source": [
    "## Menggunakan Pandas"
   ]
  },
  {
   "cell_type": "code",
   "execution_count": 35,
   "metadata": {},
   "outputs": [
    {
     "data": {
      "text/plain": [
       "<matplotlib.axes._subplots.AxesSubplot at 0x1c47a75d088>"
      ]
     },
     "execution_count": 35,
     "metadata": {},
     "output_type": "execute_result"
    },
    {
     "data": {
      "image/png": "[encoded data removed]",
      "text/plain": [
       "<Figure size 432x288 with 1 Axes>"
      ]
     },
     "metadata": {
      "needs_background": "light"
     },
     "output_type": "display_data"
    }
   ],
   "source": [
    "AAPL['Close'].plot()"
   ]
  },
  {
   "cell_type": "markdown",
   "metadata": {},
   "source": [
    "# Plotting DataFrame"
   ]
  },
  {
   "cell_type": "code",
   "execution_count": 38,
   "metadata": {},
   "outputs": [
    {
     "data": {
      "text/plain": [
       "[<matplotlib.lines.Line2D at 0x1c47a84c448>,\n",
       " <matplotlib.lines.Line2D at 0x1c47a86ce08>,\n",
       " <matplotlib.lines.Line2D at 0x1c47a8771c8>,\n",
       " <matplotlib.lines.Line2D at 0x1c47a877388>,\n",
       " <matplotlib.lines.Line2D at 0x1c47a877588>,\n",
       " <matplotlib.lines.Line2D at 0x1c47a877808>]"
      ]
     },
     "execution_count": 38,
     "metadata": {},
     "output_type": "execute_result"
    },
    {
     "data": {
      "image/png": "[encoded data removed]",
      "text/plain": [
       "<Figure size 432x288 with 1 Axes>"
      ]
     },
     "metadata": {
      "needs_background": "light"
     },
     "output_type": "display_data"
    }
   ],
   "source": [
    "plt.plot(AAPL)"
   ]
  },
  {
   "cell_type": "code",
   "execution_count": 112,
   "metadata": {},
   "outputs": [
    {
     "data": {
      "text/plain": [
       "<matplotlib.axes._subplots.AxesSubplot at 0x7f503a69b828>"
      ]
     },
     "execution_count": 112,
     "metadata": {},
     "output_type": "execute_result"
    },
    {
     "data": {
      "image/png": "[encoded data removed]",
      "text/plain": [
       "<matplotlib.figure.Figure at 0x7f503a5a3c50>"
      ]
     },
     "metadata": {},
     "output_type": "display_data"
    }
   ],
   "source": [
    "AAPL.plot()"
   ]
  },
  {
   "cell_type": "markdown",
   "metadata": {},
   "source": [
    "## Mengganti Skala"
   ]
  },
  {
   "cell_type": "code",
   "execution_count": 113,
   "metadata": {},
   "outputs": [
    {
     "data": {
      "image/png": "[encoded data removed]",
      "text/plain": [
       "<matplotlib.figure.Figure at 0x7f503a58f748>"
      ]
     },
     "metadata": {},
     "output_type": "display_data"
    }
   ],
   "source": [
    "AAPL.plot()\n",
    "plt.yscale('log')"
   ]
  },
  {
   "cell_type": "code",
   "execution_count": 115,
   "metadata": {},
   "outputs": [
    {
     "data": {
      "text/plain": [
       "('2001', '2002', 0, 100)"
      ]
     },
     "execution_count": 115,
     "metadata": {},
     "output_type": "execute_result"
    },
    {
     "data": {
      "image/png": "[encoded data removed]",
      "text/plain": [
       "<matplotlib.figure.Figure at 0x7f503a37bfd0>"
      ]
     },
     "metadata": {},
     "output_type": "display_data"
    }
   ],
   "source": [
    "AAPL['Open'].plot(color='b', style='-', legend=True)\n",
    "AAPL['Close'].plot(color='r', style='.', legend=True)\n",
    "plt.axis(('2001', '2002', 0, 100))"
   ]
  },
  {
   "cell_type": "code",
   "execution_count": 118,
   "metadata": {},
   "outputs": [
    {
     "data": {
      "text/plain": [
       "<matplotlib.axes._subplots.AxesSubplot at 0x7f503aa03fd0>"
      ]
     },
     "execution_count": 118,
     "metadata": {},
     "output_type": "execute_result"
    },
    {
     "data": {
      "image/png": "[encoded data removed]",
      "text/plain": [
       "<matplotlib.figure.Figure at 0x7f503abeff98>"
      ]
     },
     "metadata": {},
     "output_type": "display_data"
    }
   ],
   "source": [
    "AAPL.loc['2001':'2004',['Open', 'Close', 'High','Low']].plot()"
   ]
  },
  {
   "cell_type": "code",
   "execution_count": null,
   "metadata": {
    "collapsed": true
   },
   "outputs": [],
   "source": []
  },
  {
   "cell_type": "code",
   "execution_count": null,
   "metadata": {
    "collapsed": true
   },
   "outputs": [],
   "source": []
  }
 ],
 "metadata": {
  "kernelspec": {
   "display_name": "Python 3",
   "language": "python",
   "name": "python3"
  },
  "language_info": {
   "codemirror_mode": {
    "name": "ipython",
    "version": 3
   },
   "file_extension": ".py",
   "mimetype": "text/x-python",
   "name": "python",
   "nbconvert_exporter": "python",
   "pygments_lexer": "ipython3",
   "version": "3.7.4"
  }
 },
 "nbformat": 4,
 "nbformat_minor": 2
}
